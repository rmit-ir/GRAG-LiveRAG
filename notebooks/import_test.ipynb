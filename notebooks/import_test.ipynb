{
 "cells": [
  {
   "cell_type": "markdown",
   "metadata": {},
   "source": [
    "# Import Test Notebook\n",
    "\n",
    "This notebook demonstrates how to import directly from services using the editable package installation."
   ]
  },
  {
   "cell_type": "code",
   "execution_count": null,
   "metadata": {},
   "outputs": [],
   "source": [
    "# Direct imports with editable package installation\n",
    "from services.aws_utils import AWSUtils\n",
    "from services.pinecone_index import PineconeService\n",
    "\n",
    "print(\"Import successful!\")\n",
    "print(f\"AWSUtils class: {AWSUtils}\")\n",
    "print(f\"PineconeService class: {PineconeService}\")"
   ]
  }
 ],
 "metadata": {
  "kernelspec": {
   "display_name": ".venv",
   "language": "python",
   "name": "python3"
  },
  "language_info": {
   "codemirror_mode": {
    "name": "ipython",
    "version": 3
   },
   "file_extension": ".py",
   "mimetype": "text/x-python",
   "name": "python",
   "nbconvert_exporter": "python",
   "pygments_lexer": "ipython3",
   "version": "3.11.9"
  }
 },
 "nbformat": 4,
 "nbformat_minor": 4
}
