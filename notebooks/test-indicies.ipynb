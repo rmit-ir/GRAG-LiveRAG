{
 "cells": [
  {
   "cell_type": "markdown",
   "metadata": {},
   "source": [
    "# Vector Index Services Test Notebook\n",
    "\n",
    "This notebook demonstrates the usage of the vector index services in LiveRAG."
   ]
  },
  {
   "cell_type": "markdown",
   "metadata": {},
   "source": [
    "## Setup\n",
    "\n",
    "First, let's import the necessary modules using the editable package installation."
   ]
  },
  {
   "cell_type": "code",
   "execution_count": 1,
   "metadata": {},
   "outputs": [
    {
     "name": "stderr",
     "output_type": "stream",
     "text": [
      "/Users/kun/Projects/rmit/research/live-rag/LiveRAG/.venv/lib/python3.11/site-packages/tqdm/auto.py:21: TqdmWarning: IProgress not found. Please update jupyter and ipywidgets. See https://ipywidgets.readthedocs.io/en/stable/user_install.html\n",
      "  from .autonotebook import tqdm as notebook_tqdm\n"
     ]
    }
   ],
   "source": [
    "# Import the services directly with editable package installation\n",
    "from services.aws_utils import AWSUtils\n",
    "from services.embedding_utils import EmbeddingUtils\n",
    "from services.pinecone_index import PineconeService\n",
    "from services.opensearch_index import OpenSearchService"
   ]
  },
  {
   "cell_type": "markdown",
   "metadata": {},
   "source": [
    "## 1. Individual Services\n",
    "\n",
    "Let's demonstrate using each service individually."
   ]
  },
  {
   "cell_type": "markdown",
   "metadata": {},
   "source": [
    "### 1.1 AWS Utilities\n",
    "\n",
    "The AWSUtils class provides functions for interacting with AWS services, particularly SSM Parameter Store."
   ]
  },
  {
   "cell_type": "code",
   "execution_count": 2,
   "metadata": {},
   "outputs": [
    {
     "name": "stdout",
     "output_type": "stream",
     "text": [
      "AWS Region: us-east-1\n",
      "SSM Value: search-index01-zc4xlabgpncm3uqmerfedq5nx4.us-east-1.es.amazonaws.com\n",
      "SSM Secret: pcsk_4x5iM2_LTm789oif1c1cU7TvPbUki1GiJGWmrZu4TiHLHkDsgJsHyyGVkFJy2yNjJiuqL\n"
     ]
    }
   ],
   "source": [
    "# Create an AWS utilities instance\n",
    "aws_utils = AWSUtils()\n",
    "\n",
    "# Print the configured AWS region\n",
    "print(f\"AWS Region: {aws_utils.aws_region_name}\")\n",
    "\n",
    "# Note: The following commands would work with valid AWS credentials and SSM parameters\n",
    "value = aws_utils.get_ssm_value(\"/opensearch/endpoint\")\n",
    "secret = aws_utils.get_ssm_secret(\"/pinecone/ro_token\")\n",
    "print(f\"SSM Value: {value}\")\n",
    "print(f\"SSM Secret: {secret}\")"
   ]
  },
  {
   "cell_type": "markdown",
   "metadata": {},
   "source": [
    "### 1.2 Embedding Utilities\n",
    "\n",
    "The EmbeddingUtils class handles text embedding generation using transformer models."
   ]
  },
  {
   "cell_type": "code",
   "execution_count": 3,
   "metadata": {},
   "outputs": [
    {
     "name": "stdout",
     "output_type": "stream",
     "text": [
      "MPS available: True\n",
      "CUDA available: False\n",
      "Embedding dimension: 768\n"
     ]
    }
   ],
   "source": [
    "# Create an embedding utilities instance\n",
    "embedding_utils = EmbeddingUtils()\n",
    "\n",
    "# Check for available hardware acceleration\n",
    "print(f\"MPS available: {embedding_utils.has_mps()}\")\n",
    "print(f\"CUDA available: {embedding_utils.has_cuda()}\")\n",
    "\n",
    "# Note: The following command would load a model and generate embeddings\n",
    "# This is commented out to avoid loading large models unnecessarily\n",
    "query_embedding = embedding_utils.embed_query(\"What is a vector database?\")\n",
    "print(f\"Embedding dimension: {len(query_embedding)}\")"
   ]
  },
  {
   "cell_type": "markdown",
   "metadata": {},
   "source": [
    "### 1.3 Pinecone Service\n",
    "\n",
    "The PineconeService class provides functionality for querying Pinecone vector databases."
   ]
  },
  {
   "cell_type": "code",
   "execution_count": 4,
   "metadata": {},
   "outputs": [
    {
     "name": "stdout",
     "output_type": "stream",
     "text": [
      "Pinecone Index: fineweb10bt-512-0w-e5-base-v2\n",
      "Pinecone Namespace: default\n",
      "Found 3 matches:\n",
      "--------------------------------------------------------------------------------\n",
      "🔍 RESULT #1 | ID: doc-<urn:uuid:67e8ec8b-08a9-4628-981e-1d1c6a992f76>::chunk-0 | RELEVANCE: 83.47%\n",
      "\n",
      "CONTENT:\n",
      "Welcome to Vector Database!\n",
      "Vector database is a digital-only collection of vector backbone information compiled by Addgene from third party sources.\n",
      "This vector is NOT available from Addgene and the database is no longer actively maintained.\n",
      "- Plasmid Type\n",
      "- Cloning Method\n",
      "- pCF83 map is shown here. Promoter reporter construct: S.cerevisaie CYC1 TATA cloned upstream of lacZ. Based on pIRT2U and pIRT2 respectively. ura4+, LEU2 respectively.\n",
      "--------------------------------------------------------------------------------\n",
      "🔍 RESULT #2 | ID: doc-<urn:uuid:212c8842-b072-45f6-87be-b3289186caf5>::chunk-0 | RELEVANCE: 82.69%\n",
      "\n",
      "CONTENT:\n",
      "Welcome to Vector Database!\n",
      "Vector database is a digital collection of vector backbones assembled from publications and commercially available sources. This is a free resource for the scientific community that is compiled by Addgene.\n",
      "This page is informational only - this vector is NOT available from Addgene - please contact the manufacturer for further details.\n",
      "This page is informational only.\n",
      "Please contact the manufacturer for further details.\n",
      "|Plasmid Type:||Mammalian Expression|\n",
      "|Tag 1:||GFP (Cterm)|\n",
      "GFP fusion with selection for mammalian expression\n",
      "|Catalog Number:||632469, 632426|\n",
      "--------------------------------------------------------------------------------\n",
      "🔍 RESULT #3 | ID: doc-<urn:uuid:0051674c-4bb6-4eb4-a406-a2091a1722de>::chunk-0 | RELEVANCE: 82.13%\n",
      "\n",
      "CONTENT:\n",
      "Welcome to Vector Database!\n",
      "Vector database is a digital collection of vector backbones assembled from publications and commercially available sources. This is a free resource for the scientific community that is compiled by Addgene.\n",
      "This page is informational only - this vector is NOT available from Addgene - please contact the manufacturer for further details.\n",
      "This vector is NOT available from Addgene.\n",
      "Plasmid: lambda cIKH100 IS5\n",
      "This was isolated as spontaneous mutant of a lambda Nam7 Nam53 cIts857 prophage. This replicates in both sup and sup0 E.coli hosts and forms clear plaques at both 30 and 42C. (personal communication) This is bacteriophage lambda with an IS5 insertion in gene cI. Medium is 1592 SM buffer. Hosts: bacteria-free lysate, E.coli, E.coli C600. (Information source: VectorDB ( http://seq.yeastgenome.org/vectordb ).)\n",
      "--------------------------------------------------------------------------------\n"
     ]
    }
   ],
   "source": [
    "# Create a Pinecone service instance\n",
    "pinecone_service = PineconeService()\n",
    "\n",
    "print(f\"Pinecone Index: {pinecone_service.index_name}\")\n",
    "print(f\"Pinecone Namespace: {pinecone_service.namespace}\")\n",
    "\n",
    "# Note: The following commands would query Pinecone with valid credentials\n",
    "results = pinecone_service.query_pinecone(\"What is a vector database?\", top_k=3)\n",
    "pinecone_service.show_pinecone_results(results)"
   ]
  },
  {
   "cell_type": "markdown",
   "metadata": {},
   "source": [
    "### 1.4 OpenSearch Service\n",
    "\n",
    "The OpenSearchService class provides functionality for querying OpenSearch vector databases."
   ]
  },
  {
   "cell_type": "code",
   "execution_count": 5,
   "metadata": {},
   "outputs": [
    {
     "name": "stdout",
     "output_type": "stream",
     "text": [
      "OpenSearch Index: fineweb10bt-512-0w-e5-base-v2\n",
      "Found 3 matches:\n",
      "--------------------------------------------------------------------------------\n",
      "🔍 RESULT #1 | ID: doc-<urn:uuid:67e8ec8b-08a9-4628-981e-1d1c6a992f76>::chunk-0 | SCORE: 21.47454\n",
      "\n",
      "CONTENT:\n",
      "Welcome to Vector Database!\n",
      "Vector database is a digital-only collection of vector backbone information compiled by Addgene from third party sources.\n",
      "This vector is NOT available from Addgene and the database is no longer actively maintained.\n",
      "- Plasmid Type\n",
      "- Cloning Method\n",
      "- pCF83 map is shown here. Promoter reporter construct: S.cerevisaie CYC1 TATA cloned upstream of lacZ. Based on pIRT2U and pIRT2 respectively. ura4+, LEU2 respectively.\n",
      "--------------------------------------------------------------------------------\n",
      "🔍 RESULT #2 | ID: doc-<urn:uuid:92603e5c-f398-45d8-a29f-89f055af986c>::chunk-0 | SCORE: 20.75627\n",
      "\n",
      "CONTENT:\n",
      "Tuesday, October 1, 2002 12:19 PM\n",
      "I have a need to create a Vector whose name should be generated dynamically, as I don't know when I access the database exactly how many Vector's I'll need. In other words, say I run a database query that returns \"Bob\" \"Jane\" and \"Sue\". Now I want to loop through that resultset, and create a vector for each one. Optimally, I would like to call them something like dataBob dataJane and dataSue. The next time through may return other results. Does anyone know how I would create unique vector names based on the results returned by my database query?\n",
      "Re: creating dynamic variables\n",
      "Wednesday, October 2, 2002 07:28 AM\n",
      "But there tends to not be any good reason to want to dynamically create variables on the stack anyway. The other posters are right, what you are really looking for is a data structure to hold some vectors which you can retrieve by name--which is precisely what HashMap is for.\n",
      "Tuesday, October 1, 2002 12:52 PM\n",
      "--------------------------------------------------------------------------------\n",
      "🔍 RESULT #3 | ID: doc-<urn:uuid:212c8842-b072-45f6-87be-b3289186caf5>::chunk-0 | SCORE: 20.659771\n",
      "\n",
      "CONTENT:\n",
      "Welcome to Vector Database!\n",
      "Vector database is a digital collection of vector backbones assembled from publications and commercially available sources. This is a free resource for the scientific community that is compiled by Addgene.\n",
      "This page is informational only - this vector is NOT available from Addgene - please contact the manufacturer for further details.\n",
      "This page is informational only.\n",
      "Please contact the manufacturer for further details.\n",
      "|Plasmid Type:||Mammalian Expression|\n",
      "|Tag 1:||GFP (Cterm)|\n",
      "GFP fusion with selection for mammalian expression\n",
      "|Catalog Number:||632469, 632426|\n",
      "--------------------------------------------------------------------------------\n"
     ]
    }
   ],
   "source": [
    "# Create an OpenSearch service instance\n",
    "opensearch_service = OpenSearchService()\n",
    "\n",
    "print(f\"OpenSearch Index: {opensearch_service.index_name}\")\n",
    "\n",
    "# Note: The following commands would query OpenSearch with valid credentials\n",
    "results = opensearch_service.query_opensearch(\"What is a vector database?\", top_k=3)\n",
    "opensearch_service.show_opensearch_results(results)"
   ]
  },
  {
   "cell_type": "markdown",
   "metadata": {},
   "source": [
    "## 2. Batch Queries"
   ]
  },
  {
   "cell_type": "code",
   "execution_count": 6,
   "metadata": {},
   "outputs": [],
   "source": [
    "# Define some test queries\n",
    "test_queries = [\n",
    "    \"What is a vector database?\",\n",
    "    \"How do embedding models work?\",\n",
    "    \"What are the advantages of vector search?\"\n",
    "]"
   ]
  },
  {
   "cell_type": "code",
   "execution_count": 7,
   "metadata": {},
   "outputs": [
    {
     "name": "stdout",
     "output_type": "stream",
     "text": [
      "=== Pinecone Batch Query Example ===\n"
     ]
    },
    {
     "name": "stderr",
     "output_type": "stream",
     "text": [
      "huggingface/tokenizers: The current process just got forked, after parallelism has already been used. Disabling parallelism to avoid deadlocks...\n",
      "To disable this warning, you can either:\n",
      "\t- Avoid using `tokenizers` before the fork if possible\n",
      "\t- Explicitly set the environment variable TOKENIZERS_PARALLELISM=(true | false)\n"
     ]
    },
    {
     "name": "stdout",
     "output_type": "stream",
     "text": [
      "\n",
      "Results for query: What is a vector database?\n",
      "Found 2 matches:\n",
      "--------------------------------------------------------------------------------\n",
      "🔍 RESULT #1 | ID: doc-<urn:uuid:67e8ec8b-08a9-4628-981e-1d1c6a992f76>::chunk-0 | RELEVANCE: 83.47%\n",
      "\n",
      "CONTENT:\n",
      "Welcome to Vector Database!\n",
      "Vector database is a digital-only collection of vector backbone information compiled by Addgene from third party sources.\n",
      "This vector is NOT available from Addgene and the database is no longer actively maintained.\n",
      "- Plasmid Type\n",
      "- Cloning Method\n",
      "- pCF83 map is shown here. Promoter reporter construct: S.cerevisaie CYC1 TATA cloned upstream of lacZ. Based on pIRT2U and pIRT2 respectively. ura4+, LEU2 respectively.\n",
      "--------------------------------------------------------------------------------\n",
      "🔍 RESULT #2 | ID: doc-<urn:uuid:212c8842-b072-45f6-87be-b3289186caf5>::chunk-0 | RELEVANCE: 82.69%\n",
      "\n",
      "CONTENT:\n",
      "Welcome to Vector Database!\n",
      "Vector database is a digital collection of vector backbones assembled from publications and commercially available sources. This is a free resource for the scientific community that is compiled by Addgene.\n",
      "This page is informational only - this vector is NOT available from Addgene - please contact the manufacturer for further details.\n",
      "This page is informational only.\n",
      "Please contact the manufacturer for further details.\n",
      "|Plasmid Type:||Mammalian Expression|\n",
      "|Tag 1:||GFP (Cterm)|\n",
      "GFP fusion with selection for mammalian expression\n",
      "|Catalog Number:||632469, 632426|\n",
      "--------------------------------------------------------------------------------\n",
      "\n",
      "Results for query: How do embedding models work?\n",
      "Found 2 matches:\n",
      "--------------------------------------------------------------------------------\n",
      "🔍 RESULT #1 | ID: doc-<urn:uuid:f65c8782-b9f7-4f03-af74-0cf390feab2b>::chunk-2 | RELEVANCE: 84.87%\n",
      "\n",
      "CONTENT:\n",
      "What is your model and how is it working?\n",
      "Please share your comments on these models and your own practices. You can leave comments here or drop me an email.\n",
      "--------------------------------------------------------------------------------\n",
      "🔍 RESULT #2 | ID: doc-<urn:uuid:a93c6168-1b36-4060-92d4-263332e88d0b>::chunk-1 | RELEVANCE: 82.67%\n",
      "\n",
      "CONTENT:\n",
      "See more solutions in this guide to embedding files.\n",
      "--------------------------------------------------------------------------------\n",
      "\n",
      "Results for query: What are the advantages of vector search?\n",
      "Found 2 matches:\n",
      "--------------------------------------------------------------------------------\n",
      "🔍 RESULT #1 | ID: doc-<urn:uuid:f8c19784-cef0-402a-a6e4-d4c37108d039>::chunk-0 | RELEVANCE: 82.17%\n",
      "\n",
      "CONTENT:\n",
      "Embedditor is a powerful vector search tool that gives you the power to quickly and accurately find the information you need. With its advanced artificial intelligence algorithms, Embedditor helps you find the perfect vector in a fraction of the time it would take to search manually. Embedditor’s intuitive user interface makes it easy to find the information you need, even if you have no prior experience with vector search. Embedditor’s AI-driven search algorithm quickly and accurately identifies the best vector for your query, saving you time and energy. Embedditor also provides powerful visualization tools to help you explore the results of your search. Whether you are a professional researcher, a student, or a casual user, Embedditor can help you find the information you need in no time.\n",
      "Share this link via\n",
      "Or copy link\n",
      "--------------------------------------------------------------------------------\n",
      "🔍 RESULT #2 | ID: doc-<urn:uuid:fa0e4e79-aeba-4719-a928-b903a070b7f9>::chunk-0 | RELEVANCE: 81.98%\n",
      "\n",
      "CONTENT:\n",
      "Uploading a RAW file\n",
      "by Nikmd | 30th of May, 2010\n",
      "I was wondering if there is an additional benefit of uploading in a RAW or Vector file when submitting images.\n",
      "\" Should you have an additional format (vector, RAW) to upload for this file, you can continue here.\"\n",
      "Being new to Dreamstime I am not quite aware.\n",
      "--------------------------------------------------------------------------------\n"
     ]
    }
   ],
   "source": [
    "# Example 2: Pinecone batch query\n",
    "print(\"=== Pinecone Batch Query Example ===\")\n",
    "batch_results = pinecone_service.batch_query_pinecone(test_queries, top_k=2)\n",
    "for i, results in enumerate(batch_results):\n",
    "    print(f\"\\nResults for query: {test_queries[i]}\")\n",
    "    PineconeService.show_pinecone_results(results)"
   ]
  },
  {
   "cell_type": "code",
   "execution_count": 8,
   "metadata": {},
   "outputs": [
    {
     "name": "stdout",
     "output_type": "stream",
     "text": [
      "=== OpenSearch Batch Query Example ===\n",
      "\n",
      "Results for query: What is a vector database?\n",
      "Found 2 matches:\n",
      "--------------------------------------------------------------------------------\n",
      "🔍 RESULT #1 | ID: doc-<urn:uuid:67e8ec8b-08a9-4628-981e-1d1c6a992f76>::chunk-0 | SCORE: 21.47454\n",
      "\n",
      "CONTENT:\n",
      "Welcome to Vector Database!\n",
      "Vector database is a digital-only collection of vector backbone information compiled by Addgene from third party sources.\n",
      "This vector is NOT available from Addgene and the database is no longer actively maintained.\n",
      "- Plasmid Type\n",
      "- Cloning Method\n",
      "- pCF83 map is shown here. Promoter reporter construct: S.cerevisaie CYC1 TATA cloned upstream of lacZ. Based on pIRT2U and pIRT2 respectively. ura4+, LEU2 respectively.\n",
      "--------------------------------------------------------------------------------\n",
      "🔍 RESULT #2 | ID: doc-<urn:uuid:92603e5c-f398-45d8-a29f-89f055af986c>::chunk-0 | SCORE: 20.75627\n",
      "\n",
      "CONTENT:\n",
      "Tuesday, October 1, 2002 12:19 PM\n",
      "I have a need to create a Vector whose name should be generated dynamically, as I don't know when I access the database exactly how many Vector's I'll need. In other words, say I run a database query that returns \"Bob\" \"Jane\" and \"Sue\". Now I want to loop through that resultset, and create a vector for each one. Optimally, I would like to call them something like dataBob dataJane and dataSue. The next time through may return other results. Does anyone know how I would create unique vector names based on the results returned by my database query?\n",
      "Re: creating dynamic variables\n",
      "Wednesday, October 2, 2002 07:28 AM\n",
      "But there tends to not be any good reason to want to dynamically create variables on the stack anyway. The other posters are right, what you are really looking for is a data structure to hold some vectors which you can retrieve by name--which is precisely what HashMap is for.\n",
      "Tuesday, October 1, 2002 12:52 PM\n",
      "--------------------------------------------------------------------------------\n",
      "\n",
      "Results for query: How do embedding models work?\n",
      "Found 2 matches:\n",
      "--------------------------------------------------------------------------------\n",
      "🔍 RESULT #1 | ID: doc-<urn:uuid:3db7e823-0699-467f-ab28-29ff296fccf1>::chunk-0 | SCORE: 22.769962\n",
      "\n",
      "CONTENT:\n",
      "Chinese character decomposition has been used as a feature to enhance Machine Translation (MT) models, combining radicals into character and word level models. Recent work has investigated ideograph or stroke level embedding. However, questions remain about different decomposition levels of Chinese character representations, radical and strokes, best suited for MT. To investigate the impact of Chinese decomposition embedding in detail, i.e., radical, stroke, and intermediate levels, and how well these decompositions represent the meaning of the original character sequences, we carry out analysis with both automated and human evaluation of MT. Furthermore, we investigate if the combination of decomposed Multiword Expressions (MWEs) can enhance the model learning. MWE integration into MT has seen more than a decade of exploration. However, decomposed MWEs has not previously been explored.\n",
      "--------------------------------------------------------------------------------\n",
      "🔍 RESULT #2 | ID: doc-<urn:uuid:46abb1d0-06f3-4732-878a-4931962085d2>::chunk-1 | SCORE: 22.01898\n",
      "\n",
      "CONTENT:\n",
      "We developed three watermark generation algorithms to generate different types of watermarks for DNN models:\n",
      "- embedding meaningful content together with the original training data as watermarks into the protected DNNs,\n",
      "- embedding irrelevant data samples as watermarks into the protected DNNs, and\n",
      "- embedding noise as watermarks into the protected DNNs.\n",
      "To test our watermarking framework, we used two public datasets: MNIST, a handwritten digit recognition dataset that has 60,000 training images and 10,000 testing images and CIFAR10, an object classification dataset with 50,000 training images and 10,000 testing images.\n",
      "Running the experiment is rather straightforward: we simply provide the DNN with a specifically crafted picture, which triggers an unexpected but controlled response if the model has been watermarked. This isn’t the first time watermarking has been considered, but previous concepts were limited by requiring accessing model parameters. However, in the real world, the stolen models are usually deployed remotely, and the plagiarized service would not publicize the parameters of the stolen models. In addition, the embedded watermarks in DNN models are robust and resilient to different counter-watermark mechanisms, such as fine-tuning, parameter pruning, and model inversion attacks.\n",
      "Alas, our framework does have some limitations. If the leaked model is not deployed as an on-line service but used as an internal service, then we cannot detect any theft, but then of course the plagiarizer cannot directly monetize the stolen models.\n",
      "In addition, our current watermarking framework cannot protect the DNN models from being stolen through prediction APIs, whereby attackers can exploit the tension between query access and confidentiality in the results to learn the parameters of machine learning models. However, such attacks have only been demonstrated to work well in practice for conventional machine learning algorithms with fewer model parameters such as decision trees and logistic regressions.\n",
      "We are currently looking to deploy this within IBM and explore how the technology can be delivered as a service for clients.\n",
      "Protecting Intellectual Property of Deep Neural Networks with Watermarking\n",
      "Jialong Zhang, Zhongshu Gu, Jiyong Jang, Hui Wu, Marc Ph. Stoecklin, Heqing Huang, Ian Molloy\n",
      "--------------------------------------------------------------------------------\n",
      "\n",
      "Results for query: What are the advantages of vector search?\n",
      "Found 2 matches:\n",
      "--------------------------------------------------------------------------------\n",
      "🔍 RESULT #1 | ID: doc-<urn:uuid:a5135256-eeff-4201-8d80-97346bb5460e>::chunk-0 | SCORE: 22.038242\n",
      "\n",
      "CONTENT:\n",
      "Shutterstock alternatives: Best Vector Websites to Find Free Illustrations\n",
      "Shutterstock is a renowned global marketplace for designers and creators to sell royalty-free images, footage, illustrations, and vector graphics. With a huge contribution all over the world, its library of more than 200 million stock photos, illustrations, and vectors make Shutterstock one of the best vector websites to find design elements in the creative community.\n",
      "But as the stock image market grows, there are more and more websites and platforms that also provide high-quality and even free images. It’s no doubt that when it comes to design, having more options, and more inspiration is never wrong. In this post, I am going to list the 10 best vector websites to find and download free illustrations as Shutterstock alternatives.\n",
      "Shutterstock: Pros and Cons\n",
      "There are many advantages of Shutterstock that we can mention, including:\n",
      "- High-quality and various resources of many kinds (images, videos, sound effects, music, templates)\n",
      "- Enhanced licenses are also provided to use the content for distribution to a large audience or on merchandise. (of course, except editorials)\n",
      "- AI-powered search with truly impressive results\n",
      "However, together with some pros above come several cons that we might want to search for other platforms instead.\n",
      "- Difficult for beginners or amateurs: so many choices regarding types of resources and packs of subscriptions make it more difficult to use, especially for those who are not really Internet masters. I believe that even for those who are experienced, it takes time to read and fully understand their licenses and other useful guides.\n",
      "- Too expensive: subscriptions come with limited numbers of image downloads monthly and enhanced licenses do cost an arm and a leg even for single users.\n",
      "In terms of simplicity and affordable pricing, I suggest the 10 following best vector websites and platforms as Shutterstock alternatives.\n",
      "Compared to Shutterstock, illustAC has some advantages below.\n",
      "- Simple to use: this is about illustrations and vector graphics - no other distractions. You visit the site, start searching for the illustrations you want and download them. You need to sign up or log in to download, but no card info is required when onboarding as free users.\n",
      "--------------------------------------------------------------------------------\n",
      "🔍 RESULT #2 | ID: doc-<urn:uuid:10a2a96f-1dd5-47e1-8d0e-183747f84bbf>::chunk-4 | SCORE: 21.93248\n",
      "\n",
      "CONTENT:\n",
      "In view of the foregoing background, it is therefore an object of the present invention to provide an information retrieval and visualization system and related method for efficiently retrieving documents from a document database and for visually displaying the searh results in a format readily comprehended and meaningful to the user.\n",
      "These and other objects, features and advantages in accordance with the present invention are provided by an information retrieval system for selectively retrieving documents from a document database using multiple search engines and a three-dimensional visualization approach. More particularly, the system comprises an input interface for accepting at least one user search query, and a plurality of search engines for retrieving documents from the document database based upon at least one user search query. Each of the search engines advantageously produces a common mathematical representation of each retrieved document. The system further comprises a display and visualization display means for mapping respective mathematical representations of the retrieved documents onto the display.\n",
      "At least one search engine produces a document context vector representation and an axis context vector representation of each retrieved document. The document context vector representation is the sum of all the words in a document after reducing low content words, and is used to compare documents and queries. The axis context vector representation is a sum of the words in each axis after reducing low content words, and is used for building a query for a document cluster. The axis context vector is also used by the visualization means to map onto the display.\n",
      "The present invention thereby provides a three-dimensional display of keywords, for example, from the user input query via the visualization display means. Displaying documents in a three-dimensional space enables a user to see document clusters, the relationships of documents to each other, and also aids in new document identification. Documents near identified relevant documents can be easily reviewed for topic relevance. Advantageously, the user is able to manipulate the dimensional view via the input interface to gain new views of document relationships. Changing the documents dimensionality allows the information to be viewed for different aspects of the topics to aid in further identification of relevant documents.\n",
      "The plurality of search engines may comprise an n-gram search engine and a vector space model (VSM) search engine. The n-gram search engine comprises n-gram training means for least frequency training of the training documents. Similarly, the VSM search engine comprises VSM training means for processing training documents and further comprises a neural network.\n",
      "--------------------------------------------------------------------------------\n"
     ]
    }
   ],
   "source": [
    "# Example 4: OpenSearch batch query\n",
    "print(\"=== OpenSearch Batch Query Example ===\")\n",
    "batch_results = opensearch_service.batch_query_opensearch(test_queries, top_k=2)\n",
    "for i, response in enumerate(batch_results['responses']):\n",
    "    print(f\"\\nResults for query: {test_queries[i]}\")\n",
    "    OpenSearchService.show_opensearch_results(response)"
   ]
  },
  {
   "cell_type": "markdown",
   "metadata": {},
   "source": [
    "## 3. Embedding Generation Example\n",
    "\n",
    "This demonstrates how to generate embeddings for text queries."
   ]
  },
  {
   "cell_type": "code",
   "execution_count": 9,
   "metadata": {},
   "outputs": [
    {
     "name": "stdout",
     "output_type": "stream",
     "text": [
      "Single embedding dimension: 768\n",
      "Batch embeddings count: 3\n",
      "Each embedding dimension: 768\n"
     ]
    }
   ],
   "source": [
    "# Note: The following commands would load models and generate embeddings\n",
    "\n",
    "# Generate a single embedding\n",
    "single_embedding = embedding_utils.embed_query(\"What is a vector database?\")\n",
    "print(f\"Single embedding dimension: {len(single_embedding)}\")\n",
    "\n",
    "# Generate batch embeddings\n",
    "batch_embeddings = embedding_utils.batch_embed_queries(test_queries)\n",
    "print(f\"Batch embeddings count: {len(batch_embeddings)}\")\n",
    "print(f\"Each embedding dimension: {len(batch_embeddings[0])}\")"
   ]
  }
 ],
 "metadata": {
  "kernelspec": {
   "display_name": ".venv",
   "language": "python",
   "name": "python3"
  },
  "language_info": {
   "codemirror_mode": {
    "name": "ipython",
    "version": 3
   },
   "file_extension": ".py",
   "mimetype": "text/x-python",
   "name": "python",
   "nbconvert_exporter": "python",
   "pygments_lexer": "ipython3",
   "version": "3.11.9"
  }
 },
 "nbformat": 4,
 "nbformat_minor": 4
}
