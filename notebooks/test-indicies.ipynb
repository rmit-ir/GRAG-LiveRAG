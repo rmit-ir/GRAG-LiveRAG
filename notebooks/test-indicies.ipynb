{
 "cells": [
  {
   "cell_type": "markdown",
   "metadata": {},
   "source": [
    "# Vector Index Services Test Notebook\n",
    "\n",
    "This notebook demonstrates the usage of the vector index services in LiveRAG."
   ]
  },
  {
   "cell_type": "markdown",
   "metadata": {},
   "source": [
    "## Setup\n",
    "\n",
    "First, let's import the necessary modules using the editable package installation."
   ]
  },
  {
   "cell_type": "code",
   "execution_count": 1,
   "metadata": {},
   "outputs": [
    {
     "name": "stderr",
     "output_type": "stream",
     "text": [
      "/Users/kun/Projects/rmit/research/live-rag/LiveRAG/.venv/lib/python3.11/site-packages/tqdm/auto.py:21: TqdmWarning: IProgress not found. Please update jupyter and ipywidgets. See https://ipywidgets.readthedocs.io/en/stable/user_install.html\n",
      "  from .autonotebook import tqdm as notebook_tqdm\n"
     ]
    }
   ],
   "source": [
    "# Import the services directly with editable package installation\n",
    "from services.aws_utils import AWSUtils\n",
    "from services.embedding_utils import EmbeddingUtils\n",
    "from services.pinecone_index import PineconeService\n",
    "from services.opensearch_index import OpenSearchService"
   ]
  },
  {
   "cell_type": "markdown",
   "metadata": {},
   "source": [
    "## 1. Individual Services\n",
    "\n",
    "Let's demonstrate using each service individually."
   ]
  },
  {
   "cell_type": "markdown",
   "metadata": {},
   "source": [
    "### 1.1 AWS Utilities\n",
    "\n",
    "The AWSUtils class provides functions for interacting with AWS services, particularly SSM Parameter Store."
   ]
  },
  {
   "cell_type": "code",
   "execution_count": 2,
   "metadata": {},
   "outputs": [
    {
     "name": "stdout",
     "output_type": "stream",
     "text": [
      "AWS Region: us-east-1 # MUST be this region\n"
     ]
    },
    {
     "ename": "InvalidRegionError",
     "evalue": "Provided region_name 'us-east-1 # MUST be this region' doesn't match a supported format.",
     "output_type": "error",
     "traceback": [
      "\u001b[31m---------------------------------------------------------------------------\u001b[39m",
      "\u001b[31mInvalidRegionError\u001b[39m                        Traceback (most recent call last)",
      "\u001b[36mCell\u001b[39m\u001b[36m \u001b[39m\u001b[32mIn[2]\u001b[39m\u001b[32m, line 8\u001b[39m\n\u001b[32m      5\u001b[39m \u001b[38;5;28mprint\u001b[39m(\u001b[33mf\u001b[39m\u001b[33m\"\u001b[39m\u001b[33mAWS Region: \u001b[39m\u001b[38;5;132;01m{\u001b[39;00maws_utils.aws_region_name\u001b[38;5;132;01m}\u001b[39;00m\u001b[33m\"\u001b[39m)\n\u001b[32m      7\u001b[39m \u001b[38;5;66;03m# Note: The following commands would work with valid AWS credentials and SSM parameters\u001b[39;00m\n\u001b[32m----> \u001b[39m\u001b[32m8\u001b[39m value = \u001b[43maws_utils\u001b[49m\u001b[43m.\u001b[49m\u001b[43mget_ssm_value\u001b[49m\u001b[43m(\u001b[49m\u001b[33;43m\"\u001b[39;49m\u001b[33;43m/opensearch/endpoint\u001b[39;49m\u001b[33;43m\"\u001b[39;49m\u001b[43m)\u001b[49m\n\u001b[32m      9\u001b[39m secret = aws_utils.get_ssm_secret(\u001b[33m\"\u001b[39m\u001b[33m/pinecone/ro_token\u001b[39m\u001b[33m\"\u001b[39m)\n\u001b[32m     10\u001b[39m \u001b[38;5;28mprint\u001b[39m(\u001b[33mf\u001b[39m\u001b[33m\"\u001b[39m\u001b[33mSSM Value: \u001b[39m\u001b[38;5;132;01m{\u001b[39;00mvalue\u001b[38;5;132;01m}\u001b[39;00m\u001b[33m\"\u001b[39m)\n",
      "\u001b[36mFile \u001b[39m\u001b[32m~/Projects/rmit/research/live-rag/LiveRAG/src/services/aws_utils.py:57\u001b[39m, in \u001b[36mAWSUtils.get_ssm_value\u001b[39m\u001b[34m(self, key)\u001b[39m\n\u001b[32m     47\u001b[39m \u001b[38;5;250m\u001b[39m\u001b[33;03m\"\"\"\u001b[39;00m\n\u001b[32m     48\u001b[39m \u001b[33;03mGet a cleartext value from AWS SSM.\u001b[39;00m\n\u001b[32m     49\u001b[39m \u001b[33;03m\u001b[39;00m\n\u001b[32m   (...)\u001b[39m\u001b[32m     54\u001b[39m \u001b[33;03m    The parameter value\u001b[39;00m\n\u001b[32m     55\u001b[39m \u001b[33;03m\"\"\"\u001b[39;00m\n\u001b[32m     56\u001b[39m session = \u001b[38;5;28mself\u001b[39m.get_session()\n\u001b[32m---> \u001b[39m\u001b[32m57\u001b[39m ssm = \u001b[43msession\u001b[49m\u001b[43m.\u001b[49m\u001b[43mclient\u001b[49m\u001b[43m(\u001b[49m\u001b[33;43m\"\u001b[39;49m\u001b[33;43mssm\u001b[39;49m\u001b[33;43m\"\u001b[39;49m\u001b[43m)\u001b[49m\n\u001b[32m     58\u001b[39m \u001b[38;5;28;01mreturn\u001b[39;00m ssm.get_parameter(Name=key)[\u001b[33m\"\u001b[39m\u001b[33mParameter\u001b[39m\u001b[33m\"\u001b[39m][\u001b[33m\"\u001b[39m\u001b[33mValue\u001b[39m\u001b[33m\"\u001b[39m]\n",
      "\u001b[36mFile \u001b[39m\u001b[32m~/Projects/rmit/research/live-rag/LiveRAG/.venv/lib/python3.11/site-packages/boto3/session.py:297\u001b[39m, in \u001b[36mSession.client\u001b[39m\u001b[34m(self, service_name, region_name, api_version, use_ssl, verify, endpoint_url, aws_access_key_id, aws_secret_access_key, aws_session_token, config)\u001b[39m\n\u001b[32m    215\u001b[39m \u001b[38;5;28;01mdef\u001b[39;00m\u001b[38;5;250m \u001b[39m\u001b[34mclient\u001b[39m(\n\u001b[32m    216\u001b[39m     \u001b[38;5;28mself\u001b[39m,\n\u001b[32m    217\u001b[39m     service_name,\n\u001b[32m   (...)\u001b[39m\u001b[32m    226\u001b[39m     config=\u001b[38;5;28;01mNone\u001b[39;00m,\n\u001b[32m    227\u001b[39m ):\n\u001b[32m    228\u001b[39m \u001b[38;5;250m    \u001b[39m\u001b[33;03m\"\"\"\u001b[39;00m\n\u001b[32m    229\u001b[39m \u001b[33;03m    Create a low-level service client by name.\u001b[39;00m\n\u001b[32m    230\u001b[39m \n\u001b[32m   (...)\u001b[39m\u001b[32m    295\u001b[39m \n\u001b[32m    296\u001b[39m \u001b[33;03m    \"\"\"\u001b[39;00m\n\u001b[32m--> \u001b[39m\u001b[32m297\u001b[39m     \u001b[38;5;28;01mreturn\u001b[39;00m \u001b[38;5;28;43mself\u001b[39;49m\u001b[43m.\u001b[49m\u001b[43m_session\u001b[49m\u001b[43m.\u001b[49m\u001b[43mcreate_client\u001b[49m\u001b[43m(\u001b[49m\n\u001b[32m    298\u001b[39m \u001b[43m        \u001b[49m\u001b[43mservice_name\u001b[49m\u001b[43m,\u001b[49m\n\u001b[32m    299\u001b[39m \u001b[43m        \u001b[49m\u001b[43mregion_name\u001b[49m\u001b[43m=\u001b[49m\u001b[43mregion_name\u001b[49m\u001b[43m,\u001b[49m\n\u001b[32m    300\u001b[39m \u001b[43m        \u001b[49m\u001b[43mapi_version\u001b[49m\u001b[43m=\u001b[49m\u001b[43mapi_version\u001b[49m\u001b[43m,\u001b[49m\n\u001b[32m    301\u001b[39m \u001b[43m        \u001b[49m\u001b[43muse_ssl\u001b[49m\u001b[43m=\u001b[49m\u001b[43muse_ssl\u001b[49m\u001b[43m,\u001b[49m\n\u001b[32m    302\u001b[39m \u001b[43m        \u001b[49m\u001b[43mverify\u001b[49m\u001b[43m=\u001b[49m\u001b[43mverify\u001b[49m\u001b[43m,\u001b[49m\n\u001b[32m    303\u001b[39m \u001b[43m        \u001b[49m\u001b[43mendpoint_url\u001b[49m\u001b[43m=\u001b[49m\u001b[43mendpoint_url\u001b[49m\u001b[43m,\u001b[49m\n\u001b[32m    304\u001b[39m \u001b[43m        \u001b[49m\u001b[43maws_access_key_id\u001b[49m\u001b[43m=\u001b[49m\u001b[43maws_access_key_id\u001b[49m\u001b[43m,\u001b[49m\n\u001b[32m    305\u001b[39m \u001b[43m        \u001b[49m\u001b[43maws_secret_access_key\u001b[49m\u001b[43m=\u001b[49m\u001b[43maws_secret_access_key\u001b[49m\u001b[43m,\u001b[49m\n\u001b[32m    306\u001b[39m \u001b[43m        \u001b[49m\u001b[43maws_session_token\u001b[49m\u001b[43m=\u001b[49m\u001b[43maws_session_token\u001b[49m\u001b[43m,\u001b[49m\n\u001b[32m    307\u001b[39m \u001b[43m        \u001b[49m\u001b[43mconfig\u001b[49m\u001b[43m=\u001b[49m\u001b[43mconfig\u001b[49m\u001b[43m,\u001b[49m\n\u001b[32m    308\u001b[39m \u001b[43m    \u001b[49m\u001b[43m)\u001b[49m\n",
      "\u001b[36mFile \u001b[39m\u001b[32m~/Projects/rmit/research/live-rag/LiveRAG/.venv/lib/python3.11/site-packages/botocore/session.py:924\u001b[39m, in \u001b[36mSession.create_client\u001b[39m\u001b[34m(self, service_name, region_name, api_version, use_ssl, verify, endpoint_url, aws_access_key_id, aws_secret_access_key, aws_session_token, config)\u001b[39m\n\u001b[32m    921\u001b[39m \u001b[38;5;28;01melif\u001b[39;00m default_client_config \u001b[38;5;129;01mis\u001b[39;00m \u001b[38;5;129;01mnot\u001b[39;00m \u001b[38;5;28;01mNone\u001b[39;00m:\n\u001b[32m    922\u001b[39m     config = default_client_config\n\u001b[32m--> \u001b[39m\u001b[32m924\u001b[39m region_name = \u001b[38;5;28;43mself\u001b[39;49m\u001b[43m.\u001b[49m\u001b[43m_resolve_region_name\u001b[49m\u001b[43m(\u001b[49m\u001b[43mregion_name\u001b[49m\u001b[43m,\u001b[49m\u001b[43m \u001b[49m\u001b[43mconfig\u001b[49m\u001b[43m)\u001b[49m\n\u001b[32m    926\u001b[39m \u001b[38;5;66;03m# Figure out the verify value base on the various\u001b[39;00m\n\u001b[32m    927\u001b[39m \u001b[38;5;66;03m# configuration options.\u001b[39;00m\n\u001b[32m    928\u001b[39m \u001b[38;5;28;01mif\u001b[39;00m verify \u001b[38;5;129;01mis\u001b[39;00m \u001b[38;5;28;01mNone\u001b[39;00m:\n",
      "\u001b[36mFile \u001b[39m\u001b[32m~/Projects/rmit/research/live-rag/LiveRAG/.venv/lib/python3.11/site-packages/botocore/session.py:1023\u001b[39m, in \u001b[36mSession._resolve_region_name\u001b[39m\u001b[34m(self, region_name, config)\u001b[39m\n\u001b[32m   1020\u001b[39m     \u001b[38;5;28;01melse\u001b[39;00m:\n\u001b[32m   1021\u001b[39m         region_name = \u001b[38;5;28mself\u001b[39m.get_config_variable(\u001b[33m'\u001b[39m\u001b[33mregion\u001b[39m\u001b[33m'\u001b[39m)\n\u001b[32m-> \u001b[39m\u001b[32m1023\u001b[39m \u001b[43mvalidate_region_name\u001b[49m\u001b[43m(\u001b[49m\u001b[43mregion_name\u001b[49m\u001b[43m)\u001b[49m\n\u001b[32m   1024\u001b[39m \u001b[38;5;66;03m# For any client that we create in retrieving credentials\u001b[39;00m\n\u001b[32m   1025\u001b[39m \u001b[38;5;66;03m# we want to create it using the same region as specified in\u001b[39;00m\n\u001b[32m   1026\u001b[39m \u001b[38;5;66;03m# creating this client. It is important to note though that the\u001b[39;00m\n\u001b[32m   (...)\u001b[39m\u001b[32m   1031\u001b[39m \u001b[38;5;66;03m# the credentials returned at regional endpoints are valid across\u001b[39;00m\n\u001b[32m   1032\u001b[39m \u001b[38;5;66;03m# all regions in the partition.\u001b[39;00m\n\u001b[32m   1033\u001b[39m \u001b[38;5;28mself\u001b[39m._last_client_region_used = region_name\n",
      "\u001b[36mFile \u001b[39m\u001b[32m~/Projects/rmit/research/live-rag/LiveRAG/.venv/lib/python3.11/site-packages/botocore/utils.py:1314\u001b[39m, in \u001b[36mvalidate_region_name\u001b[39m\u001b[34m(region_name)\u001b[39m\n\u001b[32m   1312\u001b[39m valid = valid_host_label.match(region_name)\n\u001b[32m   1313\u001b[39m \u001b[38;5;28;01mif\u001b[39;00m \u001b[38;5;129;01mnot\u001b[39;00m valid:\n\u001b[32m-> \u001b[39m\u001b[32m1314\u001b[39m     \u001b[38;5;28;01mraise\u001b[39;00m InvalidRegionError(region_name=region_name)\n",
      "\u001b[31mInvalidRegionError\u001b[39m: Provided region_name 'us-east-1 # MUST be this region' doesn't match a supported format."
     ]
    }
   ],
   "source": [
    "# Create an AWS utilities instance\n",
    "aws_utils = AWSUtils()\n",
    "\n",
    "# Print the configured AWS region\n",
    "print(f\"AWS Region: {aws_utils.aws_region_name}\")\n",
    "\n",
    "# Note: The following commands would work with valid AWS credentials and SSM parameters\n",
    "value = aws_utils.get_ssm_value(\"/opensearch/endpoint\")\n",
    "secret = aws_utils.get_ssm_secret(\"/pinecone/ro_token\")\n",
    "print(f\"SSM Value: {value}\")\n",
    "print(f\"SSM Secret: {secret}\")"
   ]
  },
  {
   "cell_type": "markdown",
   "metadata": {},
   "source": [
    "### 1.2 Embedding Utilities\n",
    "\n",
    "The EmbeddingUtils class handles text embedding generation using transformer models."
   ]
  },
  {
   "cell_type": "code",
   "execution_count": null,
   "metadata": {},
   "outputs": [],
   "source": [
    "# Create an embedding utilities instance\n",
    "embedding_utils = EmbeddingUtils()\n",
    "\n",
    "# Check for available hardware acceleration\n",
    "print(f\"MPS available: {embedding_utils.has_mps()}\")\n",
    "print(f\"CUDA available: {embedding_utils.has_cuda()}\")\n",
    "\n",
    "# Note: The following command would load a model and generate embeddings\n",
    "# This is commented out to avoid loading large models unnecessarily\n",
    "query_embedding = embedding_utils.embed_query(\"What is a vector database?\")\n",
    "print(f\"Embedding dimension: {len(query_embedding)}\")"
   ]
  },
  {
   "cell_type": "markdown",
   "metadata": {},
   "source": [
    "### 1.3 Pinecone Service\n",
    "\n",
    "The PineconeService class provides functionality for querying Pinecone vector databases."
   ]
  },
  {
   "cell_type": "code",
   "execution_count": null,
   "metadata": {},
   "outputs": [],
   "source": [
    "# Create a Pinecone service instance\n",
    "pinecone_service = PineconeService()\n",
    "\n",
    "print(f\"Pinecone Index: {pinecone_service.index_name}\")\n",
    "print(f\"Pinecone Namespace: {pinecone_service.namespace}\")\n",
    "\n",
    "# Note: The following commands would query Pinecone with valid credentials\n",
    "results = pinecone_service.query_pinecone(\"What is a vector database?\", top_k=3)\n",
    "pinecone_service.show_pinecone_results(results)"
   ]
  },
  {
   "cell_type": "markdown",
   "metadata": {},
   "source": [
    "### 1.4 OpenSearch Service\n",
    "\n",
    "The OpenSearchService class provides functionality for querying OpenSearch vector databases."
   ]
  },
  {
   "cell_type": "code",
   "execution_count": null,
   "metadata": {},
   "outputs": [],
   "source": [
    "# Create an OpenSearch service instance\n",
    "opensearch_service = OpenSearchService()\n",
    "\n",
    "print(f\"OpenSearch Index: {opensearch_service.index_name}\")\n",
    "\n",
    "# Note: The following commands would query OpenSearch with valid credentials\n",
    "results = opensearch_service.query_opensearch(\"What is a vector database?\", top_k=3)\n",
    "opensearch_service.show_opensearch_results(results)"
   ]
  },
  {
   "cell_type": "markdown",
   "metadata": {},
   "source": [
    "## 2. Batch Queries"
   ]
  },
  {
   "cell_type": "code",
   "execution_count": null,
   "metadata": {},
   "outputs": [],
   "source": [
    "# Define some test queries\n",
    "test_queries = [\n",
    "    \"What is a vector database?\",\n",
    "    \"How do embedding models work?\",\n",
    "    \"What are the advantages of vector search?\"\n",
    "]"
   ]
  },
  {
   "cell_type": "code",
   "execution_count": null,
   "metadata": {},
   "outputs": [],
   "source": [
    "# Example 2: Pinecone batch query\n",
    "print(\"=== Pinecone Batch Query Example ===\")\n",
    "batch_results = pinecone_service.batch_query_pinecone(test_queries, top_k=2)\n",
    "for i, results in enumerate(batch_results):\n",
    "    print(f\"\\nResults for query: {test_queries[i]}\")\n",
    "    PineconeService.show_pinecone_results(results)"
   ]
  },
  {
   "cell_type": "code",
   "execution_count": null,
   "metadata": {},
   "outputs": [],
   "source": [
    "# Example 4: OpenSearch batch query\n",
    "print(\"=== OpenSearch Batch Query Example ===\")\n",
    "batch_results = opensearch_service.batch_query_opensearch(test_queries, top_k=2)\n",
    "for i, response in enumerate(batch_results['responses']):\n",
    "    print(f\"\\nResults for query: {test_queries[i]}\")\n",
    "    OpenSearchService.show_opensearch_results(response)"
   ]
  },
  {
   "cell_type": "markdown",
   "metadata": {},
   "source": [
    "## 3. Embedding Generation Example\n",
    "\n",
    "This demonstrates how to generate embeddings for text queries."
   ]
  },
  {
   "cell_type": "code",
   "execution_count": null,
   "metadata": {},
   "outputs": [],
   "source": [
    "# Note: The following commands would load models and generate embeddings\n",
    "\n",
    "# Generate a single embedding\n",
    "single_embedding = embedding_utils.embed_query(\"What is a vector database?\")\n",
    "print(f\"Single embedding dimension: {len(single_embedding)}\")\n",
    "\n",
    "# Generate batch embeddings\n",
    "batch_embeddings = embedding_utils.batch_embed_queries(test_queries)\n",
    "print(f\"Batch embeddings count: {len(batch_embeddings)}\")\n",
    "print(f\"Each embedding dimension: {len(batch_embeddings[0])}\")"
   ]
  }
 ],
 "metadata": {
  "kernelspec": {
   "display_name": ".venv",
   "language": "python",
   "name": "python3"
  },
  "language_info": {
   "codemirror_mode": {
    "name": "ipython",
    "version": 3
   },
   "file_extension": ".py",
   "mimetype": "text/x-python",
   "name": "python",
   "nbconvert_exporter": "python",
   "pygments_lexer": "ipython3",
   "version": "3.11.9"
  }
 },
 "nbformat": 4,
 "nbformat_minor": 4
}
