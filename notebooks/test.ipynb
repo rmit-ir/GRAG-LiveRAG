{
 "cells": [
  {
   "cell_type": "markdown",
   "metadata": {},
   "source": [
    "# Vector Index Services Test Notebook\n",
    "\n",
    "This notebook demonstrates the usage of the vector index services in LiveRAG."
   ]
  },
  {
   "cell_type": "markdown",
   "metadata": {},
   "source": [
    "## Setup\n",
    "First, let's add the project directory to the Python path and import the necessary modules."
   ]
  },
  {
   "cell_type": "code",
   "execution_count": 1,
   "metadata": {},
   "outputs": [
    {
     "name": "stderr",
     "output_type": "stream",
     "text": [
      "/Users/kun/Projects/rmit/research/live-rag/LiveRAG/.venv/lib/python3.11/site-packages/tqdm/auto.py:21: TqdmWarning: IProgress not found. Please update jupyter and ipywidgets. See https://ipywidgets.readthedocs.io/en/stable/user_install.html\n",
      "  from .autonotebook import tqdm as notebook_tqdm\n"
     ]
    }
   ],
   "source": [
    "import os\n",
    "import sys\n",
    "\n",
    "# Add the src directory to the Python path\n",
    "sys.path.append(os.path.abspath('../src'))\n",
    "\n",
    "# Import the services\n",
    "from services.aws_utils import AWSUtils\n",
    "from services.embedding_utils import EmbeddingUtils\n",
    "from services.pinecone_index import PineconeService\n",
    "from services.opensearch_index import OpenSearchService"
   ]
  },
  {
   "cell_type": "markdown",
   "metadata": {},
   "source": [
    "## 1. Individual Services\n",
    "Let's demonstrate using each service individually."
   ]
  },
  {
   "cell_type": "markdown",
   "metadata": {},
   "source": [
    "### 1.1 AWS Utilities\n",
    "The AWSUtils class provides functions for interacting with AWS services, particularly SSM Parameter Store."
   ]
  },
  {
   "cell_type": "code",
   "execution_count": 13,
   "metadata": {},
   "outputs": [
    {
     "name": "stdout",
     "output_type": "stream",
     "text": [
      "AWS Region: us-east-1\n",
      "SSM Value: search-index01-zc4xlabgpncm3uqmerfedq5nx4.us-east-1.es.amazonaws.com\n",
      "SSM Secret: pcsk_4x5iM2_LTm789oif1c1cU7TvPbUki1GiJGWmrZu4TiHLHkDsgJsHyyGVkFJy2yNjJiuqL\n"
     ]
    }
   ],
   "source": [
    "# Create an AWS utilities instance\n",
    "aws_utils = AWSUtils()\n",
    "\n",
    "# Print the configured AWS region\n",
    "print(f\"AWS Region: {aws_utils.aws_region_name}\")\n",
    "\n",
    "# Note: The following commands would work with valid AWS credentials and SSM parameters\n",
    "value = aws_utils.get_ssm_value(\"/opensearch/endpoint\")\n",
    "secret = aws_utils.get_ssm_secret(\"/pinecone/ro_token\")\n",
    "print(f\"SSM Value: {value}\")\n",
    "print(f\"SSM Secret: {secret}\")"
   ]
  },
  {
   "cell_type": "markdown",
   "metadata": {},
   "source": [
    "### 1.2 Embedding Utilities\n",
    "The EmbeddingUtils class handles text embedding generation using transformer models."
   ]
  },
  {
   "cell_type": "code",
   "execution_count": 15,
   "metadata": {},
   "outputs": [
    {
     "name": "stdout",
     "output_type": "stream",
     "text": [
      "MPS available: True\n",
      "CUDA available: False\n",
      "Embedding dimension: 768\n"
     ]
    }
   ],
   "source": [
    "# Create an embedding utilities instance\n",
    "embedding_utils = EmbeddingUtils()\n",
    "\n",
    "# Check for available hardware acceleration\n",
    "print(f\"MPS available: {embedding_utils.has_mps()}\")\n",
    "print(f\"CUDA available: {embedding_utils.has_cuda()}\")\n",
    "\n",
    "# Note: The following command would load a model and generate embeddings\n",
    "# This is commented out to avoid loading large models unnecessarily\n",
    "query_embedding = embedding_utils.embed_query(\"What is a vector database?\")\n",
    "print(f\"Embedding dimension: {len(query_embedding)}\")"
   ]
  },
  {
   "cell_type": "markdown",
   "metadata": {},
   "source": [
    "### 1.3 Pinecone Service\n",
    "The PineconeService class provides functionality for querying Pinecone vector databases."
   ]
  },
  {
   "cell_type": "code",
   "execution_count": 17,
   "metadata": {},
   "outputs": [
    {
     "name": "stdout",
     "output_type": "stream",
     "text": [
      "Pinecone Index: fineweb10bt-512-0w-e5-base-v2\n",
      "Pinecone Namespace: default\n",
      "chunk: doc-<urn:uuid:67e8ec8b-08a9-4628-981e-1d1c6a992f76>::chunk-0 score: 0.8347314\n",
      "Welcome to Vector Database!\n",
      "Vector database is a digital-only collection of vector backbone information compiled by Addgene from third party sources.\n",
      "This vector is NOT available from Addgene and the database is no longer actively maintained.\n",
      "- Plasmid Type\n",
      "- Cloning Method\n",
      "- pCF83 map is shown here. Promoter reporter construct: S.cerevisaie CYC1 TATA cloned upstream of lacZ. Based on pIRT2U and pIRT2 respectively. ura4+, LEU2 respectively.\n",
      "\n",
      "chunk: doc-<urn:uuid:212c8842-b072-45f6-87be-b3289186caf5>::chunk-0 score: 0.826883\n",
      "Welcome to Vector Database!\n",
      "Vector database is a digital collection of vector backbones assembled from publications and commercially available sources. This is a free resource for the scientific community that is compiled by Addgene.\n",
      "This page is informational only - this vector is NOT available from Addgene - please contact the manufacturer for further details.\n",
      "This page is informational only.\n",
      "Please contact the manufacturer for further details.\n",
      "|Plasmid Type:||Mammalian Expression|\n",
      "|Tag 1:||GFP (Cterm)|\n",
      "GFP fusion with selection for mammalian expression\n",
      "|Catalog Number:||632469, 632426|\n",
      "\n",
      "chunk: doc-<urn:uuid:0051674c-4bb6-4eb4-a406-a2091a1722de>::chunk-0 score: 0.8213377\n",
      "Welcome to Vector Database!\n",
      "Vector database is a digital collection of vector backbones assembled from publications and commercially available sources. This is a free resource for the scientific community that is compiled by Addgene.\n",
      "This page is informational only - this vector is NOT available from Addgene - please contact the manufacturer for further details.\n",
      "This vector is NOT available from Addgene.\n",
      "Plasmid: lambda cIKH100 IS5\n",
      "This was isolated as spontaneous mutant of a lambda Nam7 Nam53 cIts857 prophage. This replicates in both sup and sup0 E.coli hosts and forms clear plaques at both 30 and 42C. (personal communication) This is bacteriophage lambda with an IS5 insertion in gene cI. Medium is 1592 SM buffer. Hosts: bacteria-free lysate, E.coli, E.coli C600. (Information source: VectorDB ( http://seq.yeastgenome.org/vectordb ).)\n",
      "\n"
     ]
    }
   ],
   "source": [
    "# Create a Pinecone service instance\n",
    "pinecone_service = PineconeService()\n",
    "\n",
    "print(f\"Pinecone Index: {pinecone_service.index_name}\")\n",
    "print(f\"Pinecone Namespace: {pinecone_service.namespace}\")\n",
    "\n",
    "# Note: The following commands would query Pinecone with valid credentials\n",
    "results = pinecone_service.query_pinecone(\"What is a vector database?\", top_k=3)\n",
    "pinecone_service.show_pinecone_results(results)"
   ]
  },
  {
   "cell_type": "markdown",
   "metadata": {},
   "source": [
    "### 1.4 OpenSearch Service\n",
    "The OpenSearchService class provides functionality for querying OpenSearch vector databases."
   ]
  },
  {
   "cell_type": "code",
   "execution_count": 5,
   "metadata": {},
   "outputs": [
    {
     "name": "stdout",
     "output_type": "stream",
     "text": [
      "OpenSearch Index: fineweb10bt-512-0w-e5-base-v2\n"
     ]
    }
   ],
   "source": [
    "# Create an OpenSearch service instance\n",
    "opensearch_service = OpenSearchService()\n",
    "\n",
    "print(f\"OpenSearch Index: {opensearch_service.index_name}\")\n",
    "\n",
    "# Note: The following commands would query OpenSearch with valid credentials\n",
    "# results = opensearch_service.query_opensearch(\"What is a vector database?\", top_k=3)\n",
    "# opensearch_service.show_opensearch_results(results)"
   ]
  },
  {
   "cell_type": "markdown",
   "metadata": {},
   "source": [
    "## 2. Example Queries\n",
    "The following examples demonstrate how to run queries using the individual services."
   ]
  },
  {
   "cell_type": "code",
   "execution_count": 6,
   "metadata": {},
   "outputs": [],
   "source": [
    "# Define some test queries\n",
    "test_queries = [\n",
    "    \"What is a vector database?\",\n",
    "    \"How do embedding models work?\",\n",
    "    \"What are the advantages of vector search?\"\n",
    "]\n",
    "\n",
    "# Note: The following code blocks would execute with valid credentials\n",
    "# They are commented out to avoid unnecessary API calls"
   ]
  },
  {
   "cell_type": "code",
   "execution_count": 7,
   "metadata": {},
   "outputs": [],
   "source": [
    "# Example 1: Pinecone single query\n",
    "# print(\"=== Pinecone Single Query Example ===\")\n",
    "# results = pinecone_service.query_pinecone(test_queries[0], top_k=3)\n",
    "# PineconeService.show_pinecone_results(results)"
   ]
  },
  {
   "cell_type": "code",
   "execution_count": 8,
   "metadata": {},
   "outputs": [],
   "source": [
    "# Example 2: Pinecone batch query\n",
    "# print(\"=== Pinecone Batch Query Example ===\")\n",
    "# batch_results = pinecone_service.batch_query_pinecone(test_queries, top_k=2)\n",
    "# for i, results in enumerate(batch_results):\n",
    "#     print(f\"\\nResults for query: {test_queries[i]}\")\n",
    "#     PineconeService.show_pinecone_results(results)"
   ]
  },
  {
   "cell_type": "code",
   "execution_count": 9,
   "metadata": {},
   "outputs": [],
   "source": [
    "# Example 3: OpenSearch single query\n",
    "# print(\"=== OpenSearch Single Query Example ===\")\n",
    "# results = opensearch_service.query_opensearch(test_queries[0], top_k=3)\n",
    "# OpenSearchService.show_opensearch_results(results)"
   ]
  },
  {
   "cell_type": "code",
   "execution_count": 10,
   "metadata": {},
   "outputs": [],
   "source": [
    "# Example 4: OpenSearch batch query\n",
    "# print(\"=== OpenSearch Batch Query Example ===\")\n",
    "# batch_results = opensearch_service.batch_query_opensearch(test_queries, top_k=2)\n",
    "# for i, response in enumerate(batch_results['responses']):\n",
    "#     print(f\"\\nResults for query: {test_queries[i]}\")\n",
    "#     OpenSearchService.show_opensearch_results(response)"
   ]
  },
  {
   "cell_type": "markdown",
   "metadata": {},
   "source": [
    "## 3. Embedding Generation Example\n",
    "This demonstrates how to generate embeddings for text queries."
   ]
  },
  {
   "cell_type": "code",
   "execution_count": 11,
   "metadata": {},
   "outputs": [],
   "source": [
    "# Note: The following commands would load models and generate embeddings\n",
    "# They are commented out to avoid loading large models unnecessarily\n",
    "\n",
    "# Generate a single embedding\n",
    "# single_embedding = embedding_utils.embed_query(\"What is a vector database?\")\n",
    "# print(f\"Single embedding dimension: {len(single_embedding)}\")\n",
    "\n",
    "# Generate batch embeddings\n",
    "# batch_embeddings = embedding_utils.batch_embed_queries(test_queries)\n",
    "# print(f\"Batch embeddings count: {len(batch_embeddings)}\")\n",
    "# print(f\"Each embedding dimension: {len(batch_embeddings[0])}\")"
   ]
  }
 ],
 "metadata": {
  "kernelspec": {
   "display_name": ".venv",
   "language": "python",
   "name": "python3"
  },
  "language_info": {
   "codemirror_mode": {
    "name": "ipython",
    "version": 3
   },
   "file_extension": ".py",
   "mimetype": "text/x-python",
   "name": "python",
   "nbconvert_exporter": "python",
   "pygments_lexer": "ipython3",
   "version": "3.11.9"
  }
 },
 "nbformat": 4,
 "nbformat_minor": 4
}
