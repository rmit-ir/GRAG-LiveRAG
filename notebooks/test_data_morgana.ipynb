{
 "cells": [
  {
   "cell_type": "markdown",
   "metadata": {},
   "source": [
    "# Testing DataMorgana API\n",
    "\n",
    "This notebook demonstrates how to use the DataMorgana API for synthetic conversation generation, as described in the paper \"Generating Diverse Q&A Benchmarks for RAG Evaluation with DataMorgana\".\n",
    "\n",
    "DataMorgana is a tool that generates highly customizable and diverse synthetic Q&A benchmarks tailored to RAG applications. It enables detailed configurations of user and question categories and provides control over their distribution within the benchmark."
   ]
  },
  {
   "cell_type": "markdown",
   "metadata": {},
   "source": [
    "## Setup & Imports"
   ]
  },
  {
   "cell_type": "code",
   "execution_count": 1,
   "metadata": {},
   "outputs": [],
   "source": [
    "from services.ds_data_morgana import DataMorgana\n",
    "\n",
    "\n",
    "dm = DataMorgana()"
   ]
  },
  {
   "cell_type": "markdown",
   "metadata": {},
   "source": [
    "## Using Pre-defined Categories\n",
    "\n",
    "DataMorgana comes with pre-defined categories for both questions and users based on the research paper."
   ]
  },
  {
   "cell_type": "code",
   "execution_count": 3,
   "metadata": {},
   "outputs": [
    {
     "name": "stdout",
     "output_type": "stream",
     "text": [
      "Factuality Categories:\n",
      "- factoid: question seeking a specific, concise piece of information or a short fact about a particular subject, such as a name, date, or number (probability: 0.5)\n",
      "- open-ended: question inviting detailed or exploratory responses, encouraging discussion or elaboration (probability: 0.5)\n"
     ]
    }
   ],
   "source": [
    "# Get the default question categories\n",
    "question_categories = dm.get_default_question_categories()\n",
    "\n",
    "# Print the factuality categories as an example\n",
    "print(\"Factuality Categories:\")\n",
    "for category in question_categories[\"factuality\"]:\n",
    "    print(f\"- {category.name}: {category.description} (probability: {category.probability})\")"
   ]
  },
  {
   "cell_type": "code",
   "execution_count": 4,
   "metadata": {},
   "outputs": [
    {
     "name": "stdout",
     "output_type": "stream",
     "text": [
      "General User Categories:\n",
      "- expert: a specialized user with deep understanding of the corpus (probability: 0.5)\n",
      "- novice: a regular user with no understanding of specialized terms (probability: 0.5)\n",
      "\n",
      "Healthcare User Categories:\n",
      "- patient: a regular patient who uses the system to get basic health information, symptom checking, and guidance on preventive care (probability: 0.25)\n",
      "- medical-doctor: a medical doctor who needs to access some advanced information (probability: 0.25)\n",
      "- clinical-researcher: a clinical researcher who uses the system to access population health data, conduct initial patient surveys, track disease progression patterns, etc (probability: 0.25)\n",
      "- public-health-authority: a public health authority who uses the system to manage community health information dissemination, be informed on health emergencies, etc (probability: 0.25)\n"
     ]
    }
   ],
   "source": [
    "# Get the general user categories\n",
    "general_user_categories = dm.get_general_user_categories()\n",
    "\n",
    "print(\"General User Categories:\")\n",
    "for category in general_user_categories:\n",
    "    print(f\"- {category.name}: {category.description} (probability: {category.probability})\")\n",
    "\n",
    "# Get the healthcare-specific user categories\n",
    "healthcare_user_categories = dm.get_healthcare_user_categories()\n",
    "\n",
    "print(\"\\nHealthcare User Categories:\")\n",
    "for category in healthcare_user_categories:\n",
    "    print(f\"- {category.name}: {category.description} (probability: {category.probability})\")"
   ]
  },
  {
   "cell_type": "markdown",
   "metadata": {},
   "source": [
    "## Creating Custom Categories\n",
    "\n",
    "You can create custom categories and categorizations to better suit your specific needs."
   ]
  },
  {
   "cell_type": "code",
   "execution_count": null,
   "metadata": {},
   "outputs": [
    {
     "name": "stdout",
     "output_type": "stream",
     "text": [
      "{\n",
      "  \"categorization_name\": \"tech-question-type\",\n",
      "  \"categories\": [\n",
      "    {\n",
      "      \"name\": \"troubleshooting\",\n",
      "      \"description\": \"question about diagnosing and fixing problems with software or hardware\",\n",
      "      \"probability\": 0.4\n",
      "    },\n",
      "    {\n",
      "      \"name\": \"how-to\",\n",
      "      \"description\": \"question about how to perform specific tasks or use specific features\",\n",
      "      \"probability\": 0.3\n",
      "    },\n",
      "    {\n",
      "      \"name\": \"compatibility\",\n",
      "      \"description\": \"question about whether products or features work together\",\n",
      "      \"probability\": 0.2\n",
      "    },\n",
      "    {\n",
      "      \"name\": \"installation\",\n",
      "      \"description\": \"question about installing or setting up software or hardware\",\n",
      "      \"probability\": 0.1\n",
      "    }\n",
      "  ]\n",
      "}\n"
     ]
    }
   ],
   "source": [
    "# Create custom question categories for technical support domain\n",
    "import json\n",
    "from services.ds_data_morgana import Category\n",
    "\n",
    "\n",
    "tech_support_categories = [\n",
    "    Category(\"troubleshooting\", \"question about diagnosing and fixing problems with software or hardware\", 0.4),\n",
    "    Category(\"how-to\", \"question about how to perform specific tasks or use specific features\", 0.3),\n",
    "    Category(\"compatibility\", \"question about whether products or features work together\", 0.2),\n",
    "    Category(\"installation\", \"question about installing or setting up software or hardware\", 0.1)\n",
    "]\n",
    "\n",
    "# Create a tech support categorization\n",
    "tech_support_categorization = dm.create_categorization(\"tech-question-type\", tech_support_categories)\n",
    "\n",
    "# Print the categorization as a dictionary\n",
    "print(json.dumps(tech_support_categorization.to_dict(), indent=2))"
   ]
  },
  {
   "cell_type": "code",
   "execution_count": 6,
   "metadata": {},
   "outputs": [
    {
     "name": "stdout",
     "output_type": "stream",
     "text": [
      "{\n",
      "  \"categorization_name\": \"tech-user-expertise\",\n",
      "  \"categories\": [\n",
      "    {\n",
      "      \"name\": \"beginner\",\n",
      "      \"description\": \"a user with minimal technical knowledge who struggles with basic computing tasks\",\n",
      "      \"probability\": 0.3\n",
      "    },\n",
      "    {\n",
      "      \"name\": \"intermediate\",\n",
      "      \"description\": \"a user with basic technical skills who can follow instructions but lacks deep understanding\",\n",
      "      \"probability\": 0.4\n",
      "    },\n",
      "    {\n",
      "      \"name\": \"advanced\",\n",
      "      \"description\": \"a technically proficient user who understands system concepts and can troubleshoot independently\",\n",
      "      \"probability\": 0.2\n",
      "    },\n",
      "    {\n",
      "      \"name\": \"developer\",\n",
      "      \"description\": \"a software developer or IT professional with deep technical knowledge\",\n",
      "      \"probability\": 0.1\n",
      "    }\n",
      "  ]\n",
      "}\n"
     ]
    }
   ],
   "source": [
    "# Create custom user categories for technical support domain\n",
    "tech_user_categories = [\n",
    "    Category(\"beginner\", \"a user with minimal technical knowledge who struggles with basic computing tasks\", 0.3),\n",
    "    Category(\"intermediate\", \"a user with basic technical skills who can follow instructions but lacks deep understanding\", 0.4),\n",
    "    Category(\"advanced\", \"a technically proficient user who understands system concepts and can troubleshoot independently\", 0.2),\n",
    "    Category(\"developer\", \"a software developer or IT professional with deep technical knowledge\", 0.1)\n",
    "]\n",
    "\n",
    "tech_user_categorization = dm.create_categorization(\"tech-user-expertise\", tech_user_categories)\n",
    "\n",
    "print(json.dumps(tech_user_categorization.to_dict(), indent=2))"
   ]
  },
  {
   "cell_type": "markdown",
   "metadata": {},
   "source": [
    "## Generating a Synchronous QA Pair\n",
    "\n",
    "Let's generate a single QA pair using the synchronous API."
   ]
  },
  {
   "cell_type": "code",
   "execution_count": null,
   "metadata": {},
   "outputs": [
    {
     "name": "stdout",
     "output_type": "stream",
     "text": [
      "Generated QA Pair:\n",
      "{'credits': 1,\n",
      " 'request': {'document_ids': ['<urn:uuid:26073e55-b9e8-4213-8df2-8baf5c1cb383>'],\n",
      "             'n_questions': 1,\n",
      "             'question_categories': {'formulation-categorization': {'description': 'phrased '\n",
      "                                                                                   'in '\n",
      "                                                                                   'the '\n",
      "                                                                                   'way '\n",
      "                                                                                   'people '\n",
      "                                                                                   'typically '\n",
      "                                                                                   'speak, '\n",
      "                                                                                   'reflecting '\n",
      "                                                                                   'everyday '\n",
      "                                                                                   'language '\n",
      "                                                                                   'use, '\n",
      "                                                                                   'without '\n",
      "                                                                                   'formal '\n",
      "                                                                                   'or '\n",
      "                                                                                   'artificial '\n",
      "                                                                                   'structure.',\n",
      "                                                                    'name': 'natural'}},\n",
      "             'user_categories': {'expertise-categorization': {'description': 'a '\n",
      "                                                                             'common '\n",
      "                                                                             'person '\n",
      "                                                                             'who '\n",
      "                                                                             'is '\n",
      "                                                                             'not '\n",
      "                                                                             'expert '\n",
      "                                                                             'of '\n",
      "                                                                             'the '\n",
      "                                                                             'subject '\n",
      "                                                                             'discussed '\n",
      "                                                                             'in '\n",
      "                                                                             'the '\n",
      "                                                                             'document, '\n",
      "                                                                             'therefore '\n",
      "                                                                             'he '\n",
      "                                                                             'asks '\n",
      "                                                                             'basic '\n",
      "                                                                             'questions.',\n",
      "                                                              'name': 'common '\n",
      "                                                                      'person'}},\n",
      "             'user_id': '0e5ea510-5709-475a-8460-4577fd3588ea'},\n",
      " 'request_id': 'fe7b8d0c-abd2-4afa-b085-9641e275fce7',\n",
      " 'response': {'result': [{'answer': 'Clovis artifacts are distinctive '\n",
      "                                    'prehistoric stone tools that were first '\n",
      "                                    'discovered near Clovis, New Mexico in the '\n",
      "                                    '1920s and have since been found '\n",
      "                                    'throughout North and South America. They '\n",
      "                                    'were important because their widespread '\n",
      "                                    'distribution led researchers to believe '\n",
      "                                    'that the first humans in the Americas '\n",
      "                                    'appeared around 13,500 years ago. '\n",
      "                                    'However, recent evidence suggests that '\n",
      "                                    'there were human populations in the '\n",
      "                                    'Americas before Clovis technology '\n",
      "                                    'appeared.',\n",
      "                          'context': ['Gault site research pushes back date of '\n",
      "                                      'earliest North Americans\\n'\n",
      "                                      'July 20, 2018 (Reno, NV) – For decades, '\n",
      "                                      'researchers believed the Western '\n",
      "                                      'Hemisphere was settled by humans '\n",
      "                                      'roughly 13,500 years ago, a theory '\n",
      "                                      'based largely upon the widespread '\n",
      "                                      'distribution of Clovis artifacts dated '\n",
      "                                      'to that time. Clovis artifacts are '\n",
      "                                      'distinctive prehistoric stone tools so '\n",
      "                                      'named because they were initially found '\n",
      "                                      'near Clovis, New Mexico, in the 1920s '\n",
      "                                      'but have since been identified '\n",
      "                                      'throughout North and South America.\\n'\n",
      "                                      'In recent years, though, archaeological '\n",
      "                                      'evidence has increasingly called into '\n",
      "                                      'question the idea of \"Clovis First.\" '\n",
      "                                      'Now, a study published by a team '\n",
      "                                      \"including DRI's Kathleen Rodrigues, \"\n",
      "                                      'Ph.D. student, and Amanda Keen-Zebert, '\n",
      "                                      'Ph.D., associate research professor, '\n",
      "                                      'has dated a significant assemblage of '\n",
      "                                      'stone artifacts to 16-20,000 years of '\n",
      "                                      'age, pushing back the timeline of the '\n",
      "                                      'first human inhabitants of North '\n",
      "                                      'America before Clovis by at least 2,500 '\n",
      "                                      'years.\\n'\n",
      "                                      'Significantly, this research identifies '\n",
      "                                      'a previously unknown, early projectile '\n",
      "                                      'point technology unrelated to Clovis, '\n",
      "                                      'which suggests that Clovis technology '\n",
      "                                      'spread across an already '\n",
      "                                      'well-established, indigenous '\n",
      "                                      'population.\\n'\n",
      "                                      '\"These projectile points are unique. We '\n",
      "                                      \"haven't found anything else like \"\n",
      "                                      'them,\" said Tom Williams, Ph.D., '\n",
      "                                      'Postdoctoral Research Associate in the '\n",
      "                                      'Department of Anthropology at Texas '\n",
      "                                      'State University and lead author of the '\n",
      "                                      'study. \"Combine that with the ages and '\n",
      "                                      'the fact that it underlies a Clovis '\n",
      "                                      'component, and the Gault site provides '\n",
      "                                      'a fantastic opportunity to study the '\n",
      "                                      'earliest human occupants in the '\n",
      "                                      'Americas.\"\\n'\n",
      "                                      'The research team identified the '\n",
      "                                      'artifacts at the Gault Site in Central '\n",
      "                                      'Texas, an extensive archaeological site '\n",
      "                                      'with evidence of continuous human '\n",
      "                                      'occupation. The presence of Clovis '\n",
      "                                      'technology at the site is '\n",
      "                                      'well-documented, but excavations below '\n",
      "                                      'the deposits containing Clovis '\n",
      "                                      'artifacts revealed well-stratified '\n",
      "                                      'sediments containing artifacts '\n",
      "                                      'distinctly different from Clovis.\\n'\n",
      "                                      'To determine the ages of these '\n",
      "                                      'artifacts, Rodrigues, Keen-Zebert, and '\n",
      "                                      'colleagues used a process called '\n",
      "                                      'optically simulated luminescence (OSL) '\n",
      "                                      'dating to the ages of the surrounding '\n",
      "                                      'sedimentary material. In OSL, '\n",
      "                                      'researchers expose minerals that have '\n",
      "                                      'long been buried under sediment layers '\n",
      "                                      'to light or heat, which causes the '\n",
      "                                      'minerals to release trapped potassium, '\n",
      "                                      'uranium, and thorium electrons that '\n",
      "                                      'have accumulated over time due to '\n",
      "                                      'ambient, naturally occurring radiation. '\n",
      "                                      'When the trapped electrons are '\n",
      "                                      'released, they emit light which can be '\n",
      "                                      'measured to determine the amount of '\n",
      "                                      'time that has elapsed since the '\n",
      "                                      'materials were last exposed to heat or '\n",
      "                                      'sunlight.\\n'\n",
      "                                      '\"The fluvial nature of the sediments '\n",
      "                                      'deposited at the Gault Site have '\n",
      "                                      'created a poor environment for '\n",
      "                                      'preservation of organic materials, so '\n",
      "                                      'radiocarbon dating has not been a '\n",
      "                                      'useful technique to apply in this '\n",
      "                                      'region,\" said Kathleen Rodrigues, '\n",
      "                                      \"graduate research assistant in DRI's \"\n",
      "                                      'Division of Earth and Ecosystem '\n",
      "                                      'Sciences. \"This made luminescence '\n",
      "                                      'dating a natural choice for dating the '\n",
      "                                      'archaeological materials here. We are '\n",
      "                                      'really pleased with the quality of the '\n",
      "                                      'results that we have achieved.\"\\n'\n",
      "                                      'The study was published on July 11th in '\n",
      "                                      'the journal Science Advances and is '\n",
      "                                      'available here: '\n",
      "                                      'http://advances.sciencemag.org/content/4/7/eaar5954.\\n'\n",
      "                                      \"For more information on DRI's optically \"\n",
      "                                      'stimulated luminescence dating '\n",
      "                                      'capabilities, visit '\n",
      "                                      'http://www.dri.edu/luminescence-lab.\\n'\n",
      "                                      'Jayme Blaschke of the Texas State '\n",
      "                                      'University Office of Media Relations '\n",
      "                                      'contributed to this release.\\n'\n",
      "                                      'The Desert Research Institute (DRI) is '\n",
      "                                      'a recognized world leader in '\n",
      "                                      'investigating the effects of natural '\n",
      "                                      'and human-induced environmental change '\n",
      "                                      'and advancing technologies aimed at '\n",
      "                                      'assessing a changing planet. For more '\n",
      "                                      'than 50 years DRI research faculty, '\n",
      "                                      'students, and staff have applied '\n",
      "                                      'scientific understanding to support the '\n",
      "                                      'effective management of natural '\n",
      "                                      \"resources while meeting Nevada's needs \"\n",
      "                                      'for economic diversification and '\n",
      "                                      'science-based educational '\n",
      "                                      'opportunities. With campuses in Reno '\n",
      "                                      'and Las Vegas, DRI serves as the '\n",
      "                                      'non-profit environmental research arm '\n",
      "                                      'of the Nevada System of Higher '\n",
      "                                      'Education. For more information, please '\n",
      "                                      'visit http://www.dri.edu. ?\\n'\n",
      "                                      '<h4>Original '\n",
      "                                      'Source</h4>http://www.dri.edu/newsroom/news-releases/5682-gault-site-research-pushes-back-date-of-earliest-north-americans '\n",
      "                                      'http://dx.doi.org/10.1126/sciadv.aar5954'],\n",
      "                          'document_ids': ['<urn:uuid:26073e55-b9e8-4213-8df2-8baf5c1cb383>'],\n",
      "                          'question': 'What are Clovis artifacts and why are '\n",
      "                                      'they important?',\n",
      "                          'question_categories': [{'categorization_name': 'formulation-categorization',\n",
      "                                                   'category_name': 'natural'}],\n",
      "                          'user_categories': [{'categorization_name': 'expertise-categorization',\n",
      "                                               'category_name': 'common '\n",
      "                                                                'person'}]}],\n",
      "              'type': 'sync'}}\n"
     ]
    }
   ],
   "source": [
    "# Define question categories for a single QA pair\n",
    "from pprint import pprint\n",
    "\n",
    "\n",
    "question_category = {\n",
    "    \"formulation-categorization\": {\n",
    "        \"name\": \"natural\",\n",
    "        \"description\": \"phrased in the way people typically speak, reflecting everyday language use, without formal or artificial structure.\"\n",
    "    }\n",
    "}\n",
    "\n",
    "# Define user categories for a single QA pair\n",
    "user_category = {\n",
    "    \"expertise-categorization\": {\n",
    "        \"name\": \"common person\",\n",
    "        \"description\": \"a common person who is not expert of the subject discussed in the document, therefore he asks basic questions.\"\n",
    "    }\n",
    "}\n",
    "\n",
    "# Define a document ID (this is just an example, replace with a valid document ID)\n",
    "document_ids = [\"<urn:uuid:26073e55-b9e8-4213-8df2-8baf5c1cb383>\"]\n",
    "\n",
    "# Generate a QA pair\n",
    "response = dm.generate_sync_qa_pair(\n",
    "    question_categories=question_category,\n",
    "    user_categories=user_category,\n",
    "    document_ids=document_ids\n",
    ")\n",
    "\n",
    "# Display the response\n",
    "print(\"Generated QA Pair:\")\n",
    "pprint(response)"
   ]
  },
  {
   "cell_type": "markdown",
   "metadata": {},
   "source": [
    "## Bulk Generation with Multiple Categorizations\n",
    "\n",
    "One of the key features of DataMorgana is the ability to generate diverse QA pairs using multiple categorizations for both questions and users."
   ]
  },
  {
   "cell_type": "code",
   "execution_count": null,
   "metadata": {},
   "outputs": [
    {
     "name": "stdout",
     "output_type": "stream",
     "text": [
      "Bulk Generation Response:\n",
      "{'request_id': 'fc06504d-7c1b-48d0-ba8b-d61d8eb201da', 'type': 'async'}\n"
     ]
    }
   ],
   "source": [
    "# Kun: not working as I can only create job, not retrieve it (says Not Found)\n",
    "# # Let's use our pre-defined categorizations to create diverse questions\n",
    "# # Convert the question categories dict into a list of Categorization objects\n",
    "# question_categorizations = []\n",
    "# for cat_name, categories in question_categories.items():\n",
    "#     question_categorizations.append(dm.create_categorization(cat_name, categories))\n",
    "\n",
    "# # Create a user categorization using the healthcare user categories\n",
    "# user_categorization = dm.create_categorization(\"healthcare-user-type\", healthcare_user_categories)\n",
    "\n",
    "# # Optional: Define document IDs for generation (this is just an example)\n",
    "# covid_document_ids = [\"<urn:uuid:sample-covid-doc-123>\", \"<urn:uuid:sample-covid-doc-456>\"]\n",
    "\n",
    "# # Submit a bulk generation request\n",
    "# bulk_response = dm.bulk_generation(\n",
    "#     n_questions=2,  # Generate 2 QA pairs\n",
    "#     question_categorizations=question_categorizations,\n",
    "#     user_categorizations=[user_categorization],\n",
    "#     document_ids=covid_document_ids  # Optional\n",
    "# )\n",
    "\n",
    "# # Display the response\n",
    "# print(\"Bulk Generation Response:\")\n",
    "# pprint(bulk_response)\n",
    "\n",
    "# # Store the generation ID for later use\n",
    "# generation_id = bulk_response.get(\"request_id\")\n"
   ]
  },
  {
   "cell_type": "markdown",
   "metadata": {},
   "source": [
    "## Fetching Bulk Generation Results\n",
    "\n",
    "After submitting a bulk generation request, you can check its status and retrieve the results using the generation ID."
   ]
  },
  {
   "cell_type": "code",
   "execution_count": null,
   "metadata": {},
   "outputs": [
    {
     "ename": "HTTPError",
     "evalue": "404 Client Error: Not Found for url: https://api.ai71.ai/v1/fetch_generation_results/request_id=fc06504d-7c1b-48d0-ba8b-d61d8eb201da",
     "output_type": "error",
     "traceback": [
      "\u001b[31m---------------------------------------------------------------------------\u001b[39m",
      "\u001b[31mHTTPError\u001b[39m                                 Traceback (most recent call last)",
      "\u001b[36mCell\u001b[39m\u001b[36m \u001b[39m\u001b[32mIn[10]\u001b[39m\u001b[32m, line 2\u001b[39m\n\u001b[32m      1\u001b[39m \u001b[38;5;66;03m# Fetch generation results\u001b[39;00m\n\u001b[32m----> \u001b[39m\u001b[32m2\u001b[39m results = \u001b[43mdm\u001b[49m\u001b[43m.\u001b[49m\u001b[43mfetch_generation_results\u001b[49m\u001b[43m(\u001b[49m\u001b[43mgeneration_id\u001b[49m\u001b[43m)\u001b[49m\n\u001b[32m      4\u001b[39m \u001b[38;5;66;03m# Display the results\u001b[39;00m\n\u001b[32m      5\u001b[39m \u001b[38;5;28mprint\u001b[39m(\u001b[33m\"\u001b[39m\u001b[33mGeneration Results:\u001b[39m\u001b[33m\"\u001b[39m)\n",
      "\u001b[36mFile \u001b[39m\u001b[32m~/Projects/rmit/research/live-rag/LiveRAG/notebooks/../src/services/ds_data_morgana.py:207\u001b[39m, in \u001b[36mDataMorgana.fetch_generation_results\u001b[39m\u001b[34m(self, generation_id)\u001b[39m\n\u001b[32m    204\u001b[39m url = \u001b[33mf\u001b[39m\u001b[33m\"\u001b[39m\u001b[38;5;132;01m{\u001b[39;00m\u001b[38;5;28mself\u001b[39m.base_url\u001b[38;5;132;01m}\u001b[39;00m\u001b[33m/fetch_generation_results/request_id=\u001b[39m\u001b[38;5;132;01m{\u001b[39;00mgeneration_id\u001b[38;5;132;01m}\u001b[39;00m\u001b[33m\"\u001b[39m\n\u001b[32m    206\u001b[39m response = requests.get(url, headers=\u001b[38;5;28mself\u001b[39m._get_headers())\n\u001b[32m--> \u001b[39m\u001b[32m207\u001b[39m \u001b[43mresponse\u001b[49m\u001b[43m.\u001b[49m\u001b[43mraise_for_status\u001b[49m\u001b[43m(\u001b[49m\u001b[43m)\u001b[49m\n\u001b[32m    209\u001b[39m \u001b[38;5;28;01mreturn\u001b[39;00m response.json()\n",
      "\u001b[36mFile \u001b[39m\u001b[32m~/Projects/rmit/research/live-rag/LiveRAG/.venv/lib/python3.11/site-packages/requests/models.py:1024\u001b[39m, in \u001b[36mResponse.raise_for_status\u001b[39m\u001b[34m(self)\u001b[39m\n\u001b[32m   1019\u001b[39m     http_error_msg = (\n\u001b[32m   1020\u001b[39m         \u001b[33mf\u001b[39m\u001b[33m\"\u001b[39m\u001b[38;5;132;01m{\u001b[39;00m\u001b[38;5;28mself\u001b[39m.status_code\u001b[38;5;132;01m}\u001b[39;00m\u001b[33m Server Error: \u001b[39m\u001b[38;5;132;01m{\u001b[39;00mreason\u001b[38;5;132;01m}\u001b[39;00m\u001b[33m for url: \u001b[39m\u001b[38;5;132;01m{\u001b[39;00m\u001b[38;5;28mself\u001b[39m.url\u001b[38;5;132;01m}\u001b[39;00m\u001b[33m\"\u001b[39m\n\u001b[32m   1021\u001b[39m     )\n\u001b[32m   1023\u001b[39m \u001b[38;5;28;01mif\u001b[39;00m http_error_msg:\n\u001b[32m-> \u001b[39m\u001b[32m1024\u001b[39m     \u001b[38;5;28;01mraise\u001b[39;00m HTTPError(http_error_msg, response=\u001b[38;5;28mself\u001b[39m)\n",
      "\u001b[31mHTTPError\u001b[39m: 404 Client Error: Not Found for url: https://api.ai71.ai/v1/fetch_generation_results/request_id=fc06504d-7c1b-48d0-ba8b-d61d8eb201da"
     ]
    }
   ],
   "source": [
    "# # Fetch generation results\n",
    "# results = dm.fetch_generation_results(generation_id)\n",
    "\n",
    "# # Display the results\n",
    "# print(\"Generation Results:\")\n",
    "# print(f\"Status: {results.get('status', 'Unknown')}\")\n",
    "\n",
    "# # If the generation is complete, display a sample of the generated QA pairs\n",
    "# if results.get('status') == 'COMPLETED' and 'qa_pairs' in results:\n",
    "#     print(f\"\\nTotal QA pairs generated: {len(results['qa_pairs'])}\")\n",
    "#     print(\"\\nSample QA pairs:\")\n",
    "#     for i, qa_pair in enumerate(results['qa_pairs'][:3]):  # Show first 3 pairs\n",
    "#         print(f\"\\nPair {i+1}:\")\n",
    "#         print(f\"Question: {qa_pair['question']}\")\n",
    "#         print(f\"Answer: {qa_pair['answer']}\")\n",
    "#         if 'metadata' in qa_pair:\n",
    "#             print(f\"Categories: {qa_pair['metadata']}\")\n"
   ]
  },
  {
   "cell_type": "markdown",
   "metadata": {},
   "source": [
    "## Retrying a Failed Generation\n",
    "\n",
    "If a bulk generation request fails, you can retry it using the generation ID."
   ]
  },
  {
   "cell_type": "code",
   "execution_count": null,
   "metadata": {},
   "outputs": [
    {
     "name": "stdout",
     "output_type": "stream",
     "text": [
      "Error: 422 Client Error: Unprocessable Entity for url: https://api.ai71.ai/v1/retry\n",
      "\n",
      "Note: This is expected if you haven't provided a valid API key or if the generation ID is not valid.\n"
     ]
    }
   ],
   "source": [
    "# # This try-except block allows the notebook to run even if the API key is not valid\n",
    "# try:\n",
    "#     # Retry a failed generation\n",
    "#     retry_response = dm.retry_generation(generation_id)\n",
    "    \n",
    "#     # Display the response\n",
    "#     print(\"Retry Response:\")\n",
    "#     pprint(retry_response)\n",
    "# except Exception as e:\n",
    "#     print(f\"Error: {e}\\n\\nNote: This is expected if you haven't provided a valid API key or if the generation ID is not valid.\")"
   ]
  }
 ],
 "metadata": {
  "kernelspec": {
   "display_name": ".venv",
   "language": "python",
   "name": "python3"
  },
  "language_info": {
   "codemirror_mode": {
    "name": "ipython",
    "version": 3
   },
   "file_extension": ".py",
   "mimetype": "text/x-python",
   "name": "python",
   "nbconvert_exporter": "python",
   "pygments_lexer": "ipython3",
   "version": "3.11.9"
  }
 },
 "nbformat": 4,
 "nbformat_minor": 4
}
