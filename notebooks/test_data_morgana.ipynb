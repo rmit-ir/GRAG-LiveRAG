{
 "cells": [
  {
   "cell_type": "markdown",
   "metadata": {},
   "source": [
    "# Testing DataMorgana API\n",
    "\n",
    "This notebook demonstrates how to use the DataMorgana API for synthetic conversation generation, as described in the paper \"Generating Diverse Q&A Benchmarks for RAG Evaluation with DataMorgana\".\n",
    "\n",
    "DataMorgana is a tool that generates highly customizable and diverse synthetic Q&A benchmarks tailored to RAG applications. It enables detailed configurations of user and question categories and provides control over their distribution within the benchmark."
   ]
  },
  {
   "cell_type": "markdown",
   "metadata": {},
   "source": [
    "## Setup & Imports"
   ]
  },
  {
   "cell_type": "code",
   "execution_count": 1,
   "metadata": {},
   "outputs": [],
   "source": [
    "from services.ds_data_morgana import DataMorgana\n",
    "from pprint import pprint\n",
    "\n",
    "# Initialize DataMorgana client\n",
    "dm = DataMorgana()"
   ]
  },
  {
   "cell_type": "markdown",
   "metadata": {},
   "source": [
    "## Generating a Synchronous QA Pair\n",
    "\n",
    "Let's generate a single QA pair using the synchronous API."
   ]
  },
  {
   "cell_type": "code",
   "execution_count": null,
   "metadata": {},
   "outputs": [],
   "source": [
    "# Define question categories for a single QA pair\n",
    "question_category = {\n",
    "    \"formulation-categorization\": {\n",
    "        \"name\": \"natural\",\n",
    "        \"description\": \"phrased in the way people typically speak, reflecting everyday language use, without formal or artificial structure.\"\n",
    "        # no probability, that is for bulk generation\n",
    "    }\n",
    "}\n",
    "\n",
    "# Define user categories for a single QA pair\n",
    "user_category = {\n",
    "    \"expertise-categorization\": {\n",
    "        \"name\": \"common person\",\n",
    "        \"description\": \"a common person who is not expert of the subject discussed in the document, therefore he asks basic questions.\"\n",
    "        # no probability, that is for bulk generation\n",
    "    }\n",
    "}\n",
    "\n",
    "# Define a document ID (replace with a valid document ID for your use case)\n",
    "document_ids = [\"<urn:uuid:26073e55-b9e8-4213-8df2-8baf5c1cb383>\"]\n",
    "\n",
    "# Generate a QA pair\n",
    "response = dm.generate_qa_pair_sync(\n",
    "    question_categories=question_category,\n",
    "    user_categories=user_category,\n",
    "    document_ids=document_ids\n",
    ")\n",
    "\n",
    "# Display the response\n",
    "print(\"Generated QA Pair:\")\n",
    "pprint(response)"
   ]
  },
  {
   "cell_type": "markdown",
   "metadata": {},
   "source": [
    "## Defaults from the Paper"
   ]
  },
  {
   "cell_type": "code",
   "execution_count": 2,
   "metadata": {},
   "outputs": [],
   "source": [
    "# General user categories (expertise-based)\n",
    "general_user_categories = [\n",
    "    {\n",
    "        \"categorization_name\": \"expertise-categorization\",\n",
    "        \"categories\": [\n",
    "            {\n",
    "                \"name\": \"expert\",\n",
    "                \"description\": \"a specialized user with deep understanding of the corpus\",\n",
    "                \"probability\": 0.5\n",
    "            },\n",
    "            {\n",
    "                \"name\": \"novice\",\n",
    "                \"description\": \"a regular user with no understanding of specialized terms\",\n",
    "                \"probability\": 0.5\n",
    "            }\n",
    "        ]\n",
    "    },\n",
    "    {\n",
    "        \"categorization_name\": \"health-categorization\",\n",
    "        \"categories\": [\n",
    "            {\n",
    "                \"name\": \"patient\",\n",
    "                \"description\": \"a regular patient who uses the system to get basic health information, symptom checking, and guidance on preventive care\",\n",
    "                \"probability\": 0.25\n",
    "            },\n",
    "            {\n",
    "                \"name\": \"medical-doctor\",\n",
    "                \"description\": \"a medical doctor who needs to access some advanced information\",\n",
    "                \"probability\": 0.25\n",
    "            },\n",
    "            {\n",
    "                \"name\": \"clinical-researcher\",\n",
    "                \"description\": \"a clinical researcher who uses the system to access population health data, conduct initial patient surveys, track disease progression patterns, etc\",\n",
    "                \"probability\": 0.25\n",
    "            },\n",
    "            {\n",
    "                \"name\": \"public-health-authority\",\n",
    "                \"description\": \"a public health authority who uses the system to manage community health information dissemination, be informed on health emergencies, etc\",\n",
    "                \"probability\": 0.25\n",
    "            }\n",
    "        ]\n",
    "    }\n",
    "]"
   ]
  },
  {
   "cell_type": "code",
   "execution_count": 3,
   "metadata": {},
   "outputs": [],
   "source": [
    "# Default question categories from the DataMorgana paper\n",
    "default_question_categories = [\n",
    "    {\n",
    "        \"categorization_name\": \"factuality\",\n",
    "        \"categories\": [\n",
    "            {\n",
    "                \"name\": \"factoid\",\n",
    "                \"description\": \"question seeking a specific, concise piece of information or a short fact about a particular subject, such as a name, date, or number\",\n",
    "                \"probability\": 0.5\n",
    "            },\n",
    "            {\n",
    "                \"name\": \"open-ended\",\n",
    "                \"description\": \"question inviting detailed or exploratory responses, encouraging discussion or elaboration\",\n",
    "                \"probability\": 0.5\n",
    "            }\n",
    "        ]\n",
    "    },\n",
    "    {\n",
    "        \"categorization_name\": \"premise\",\n",
    "        \"categories\":  [\n",
    "            {\n",
    "                \"name\": \"direct\",\n",
    "                \"description\": \"question that does not contain any premise or any information about the user\",\n",
    "                \"probability\": 0.5\n",
    "            },\n",
    "            {\n",
    "                \"name\": \"with-premise\",\n",
    "                \"description\": \"question starting with a very short premise, where the user reveals their needs or some information about themselves\",\n",
    "                \"probability\": 0.5\n",
    "            }\n",
    "        ]\n",
    "    },\n",
    "    {\n",
    "        \"categorization_name\": \"phrasing\",\n",
    "        \"categories\": [\n",
    "            {\n",
    "                \"name\": \"concise-and-natural\",\n",
    "                \"description\": \"phrased in the way people typically speak, reflecting everyday language use, without formal or artificial structure. It is a concise direct question consisting of less than 10 words\",\n",
    "                \"probability\": 0.25\n",
    "            },\n",
    "            {\n",
    "                \"name\": \"verbose-and-natural\",\n",
    "                \"description\": \"phrased in the way people typically speak, reflecting everyday language use, without formal or artificial structure. It is a relatively long question consisting of more than 9 words\",\n",
    "                \"probability\": 0.25\n",
    "            },\n",
    "            {\n",
    "                \"name\": \"short-search-query\",\n",
    "                \"description\": \"phrased as a typed web query for search engines (only keywords, without punctuation and without a natural-sounding structure). It consists of less than 7 words\",\n",
    "                \"probability\": 0.25\n",
    "            },\n",
    "            {\n",
    "                \"name\": \"long-search-query\",\n",
    "                \"description\": \"phrased as a typed web query for search engines (only keywords, without punctuation and without a natural-sounding structure). It consists of more than 6 words\",\n",
    "                \"probability\": 0.25\n",
    "            }\n",
    "        ]\n",
    "    },\n",
    "    {\n",
    "        \"categorization_name\": \"linguistic_variation\",\n",
    "        \"categories\": [\n",
    "            {\n",
    "                \"name\": \"similar-to-document\",\n",
    "                \"description\": \"phrased using the same terminology and phrases appearing in the document\",\n",
    "                \"probability\": 0.5\n",
    "            },\n",
    "            {\n",
    "                \"name\": \"distant-from-document\",\n",
    "                \"description\": \"phrased using terms completely different from the ones appearing in the document\",\n",
    "                \"probability\": 0.5\n",
    "            }\n",
    "        ]\n",
    "    }\n",
    "]"
   ]
  },
  {
   "cell_type": "markdown",
   "metadata": {},
   "source": [
    "## Bulk Generation with Multiple Categorizations\n",
    "\n",
    "One of the key features of DataMorgana is the ability to generate diverse QA pairs using multiple categorizations for both questions and users."
   ]
  },
  {
   "cell_type": "code",
   "execution_count": 4,
   "metadata": {},
   "outputs": [
    {
     "name": "stdout",
     "output_type": "stream",
     "text": [
      "Bulk Generation Response:\n",
      "{'request_id': '5d8433cb-0af8-4e53-b72c-cf87df13d333', 'type': 'async'}\n"
     ]
    }
   ],
   "source": [
    "# Define example document IDs (replace with valid document IDs for your use case)\n",
    "# example_document_ids = [\"<urn:uuid:sample-doc-123>\", \"<urn:uuid:sample-doc-456>\"]\n",
    "\n",
    "# Submit a bulk generation request\n",
    "bulk_response = dm.generate_qa_pair_bulk(\n",
    "    n_questions=2,  # Generate 2 QA pairs\n",
    "    question_categorizations=default_question_categories,\n",
    "    user_categorizations=general_user_categories,\n",
    "    # document_ids=example_document_ids  # Optional\n",
    ")\n",
    "\n",
    "# Display the response\n",
    "print(\"Bulk Generation Response:\")\n",
    "pprint(bulk_response)\n",
    "\n",
    "# Store the generation ID for later use\n",
    "generation_id = bulk_response.get(\"request_id\")"
   ]
  },
  {
   "cell_type": "markdown",
   "metadata": {},
   "source": [
    "## Fetching Bulk Generation Results\n",
    "\n",
    "After submitting a bulk generation request, you can check its status and retrieve the results using the generation ID."
   ]
  },
  {
   "cell_type": "code",
   "execution_count": 3,
   "metadata": {},
   "outputs": [
    {
     "name": "stdout",
     "output_type": "stream",
     "text": [
      "Generation Results:\n",
      "Status: completed\n"
     ]
    }
   ],
   "source": [
    "# Fetch generation results\n",
    "results = dm.fetch_generation_results(generation_id)\n",
    "\n",
    "# Display the results\n",
    "print(\"Generation Results:\")\n",
    "print(f\"Status: {results.get('status', 'Unknown')}\")\n",
    "\n",
    "# If the generation is complete, display a sample of the generated QA pairs\n",
    "if results.get('status') == 'COMPLETED' and 'qa_pairs' in results:\n",
    "    print(f\"\\nTotal QA pairs generated: {len(results['qa_pairs'])}\")\n",
    "    print(\"\\nSample QA pairs:\")\n",
    "    for i, qa_pair in enumerate(results['qa_pairs'][:2]):  # Show first 2 pairs\n",
    "        print(f\"\\nPair {i+1}:\")\n",
    "        print(f\"Question: {qa_pair['question']}\")\n",
    "        print(f\"Answer: {qa_pair['answer']}\")\n",
    "        if 'metadata' in qa_pair:\n",
    "            print(f\"Categories: {qa_pair['metadata']}\")"
   ]
  },
  {
   "cell_type": "markdown",
   "metadata": {},
   "source": [
    "## Waiting for Generation Results\n",
    "\n",
    "Instead of manually checking the status, you can use the `wait_generation_results` method which will automatically poll every 2 seconds until the process is complete."
   ]
  },
  {
   "cell_type": "code",
   "execution_count": 4,
   "metadata": {},
   "outputs": [
    {
     "name": "stdout",
     "output_type": "stream",
     "text": [
      "Generation status: completed\n",
      "Retrieved 2 QA pairs\n",
      "\n",
      "Sample QA pairs:\n",
      "\n",
      "Pair 1:\n",
      "Question: united states assistant secretary health role responsibilities public health department\n",
      "Answer: The Assistant Secretary for Health oversees the HHS Office of Public Health and Science, the Commissioned Corps of the U.S. Public Health Service, and the Office of the Surgeon General. They lead interdisciplinary programs related to disease prevention, health promotion, health disparities reduction, women's and minority health, HIV/AIDS, vaccine programs, physical fitness, bioethics, population affairs, blood supply, and human research protections.\n",
      "\n",
      "Pair 2:\n",
      "Question: who perfected found object art concept\n",
      "Answer: Marcel Duchamp perfected the concept when he made a series of ready-mades - completely unaltered everyday objects selected by him and designated as art.\n"
     ]
    }
   ],
   "source": [
    "# Wait for results (this will poll automatically every 2 seconds)\n",
    "complete_results = dm.wait_generation_results(generation_id)\n",
    "\n",
    "# Display the results once completed\n",
    "if 'qa_pairs' in complete_results:\n",
    "    print(\"\\nSample QA pairs:\")\n",
    "    for i, qa_pair in enumerate(complete_results['qa_pairs'][:2]):\n",
    "        print(f\"\\nPair {i+1}:\")\n",
    "        print(f\"Question: {qa_pair['question']}\")\n",
    "        print(f\"Answer: {qa_pair['answer']}\")\n",
    "        if 'metadata' in qa_pair:\n",
    "            print(f\"Categories: {qa_pair['metadata']}\")"
   ]
  },
  {
   "cell_type": "markdown",
   "metadata": {},
   "source": [
    "## Retrying a Failed Generation\n",
    "\n",
    "If a bulk generation request fails, you can retry it using the generation ID."
   ]
  },
  {
   "cell_type": "code",
   "execution_count": null,
   "metadata": {},
   "outputs": [],
   "source": [
    "# Retry a failed generation\n",
    "retry_response = dm.retry_generation(generation_id)\n",
    "\n",
    "# Display the response\n",
    "print(\"Retry Response:\")\n",
    "pprint(retry_response)"
   ]
  },
  {
   "cell_type": "markdown",
   "metadata": {},
   "source": [
    "## Using Custom Categories\n",
    "\n",
    "You can create custom categories and categorizations to better suit your specific needs."
   ]
  },
  {
   "cell_type": "code",
   "execution_count": null,
   "metadata": {},
   "outputs": [],
   "source": [
    "# Create custom question categories for technical support domain\n",
    "tech_support_categorization = [{\n",
    "    \"categorization_name\": \"tech-question-type\",\n",
    "    \"categories\": [\n",
    "        {\n",
    "            \"name\": \"troubleshooting\",\n",
    "            \"description\": \"question about diagnosing and fixing problems with software or hardware\",\n",
    "            \"probability\": 0.4\n",
    "        },\n",
    "        {\n",
    "            \"name\": \"how-to\",\n",
    "            \"description\": \"question about how to perform specific tasks or use specific features\",\n",
    "            \"probability\": 0.3\n",
    "        },\n",
    "        {\n",
    "            \"name\": \"compatibility\",\n",
    "            \"description\": \"question about whether products or features work together\",\n",
    "            \"probability\": 0.2\n",
    "        },\n",
    "        {\n",
    "            \"name\": \"installation\",\n",
    "            \"description\": \"question about installing or setting up software or hardware\",\n",
    "            \"probability\": 0.1\n",
    "        }\n",
    "    ]\n",
    "}, {\n",
    "    \"categorization_name\": \"complexity\",\n",
    "    \"categories\": [\n",
    "        {\n",
    "            \"name\": \"simple\",\n",
    "            \"description\": \"straightforward question with a clear answer\",\n",
    "            \"probability\": 0.7\n",
    "        },\n",
    "        {\n",
    "            \"name\": \"complex\",\n",
    "            \"description\": \"nuanced question requiring detailed explanation\",\n",
    "            \"probability\": 0.3\n",
    "        }\n",
    "    ]\n",
    "}]"
   ]
  },
  {
   "cell_type": "code",
   "execution_count": null,
   "metadata": {},
   "outputs": [],
   "source": [
    "# Create custom user categories for technical support domain\n",
    "tech_user_categorization = {\n",
    "    \"categorization_name\": \"tech-user-expertise\",\n",
    "    \"categories\": [\n",
    "        {\n",
    "            \"name\": \"beginner\",\n",
    "            \"description\": \"a user with minimal technical knowledge who struggles with basic computing tasks\",\n",
    "            \"probability\": 0.3\n",
    "        },\n",
    "        {\n",
    "            \"name\": \"intermediate\",\n",
    "            \"description\": \"a user with basic technical skills who can follow instructions but lacks deep understanding\",\n",
    "            \"probability\": 0.4\n",
    "        },\n",
    "        {\n",
    "            \"name\": \"advanced\",\n",
    "            \"description\": \"a technically proficient user who understands system concepts and can troubleshoot independently\",\n",
    "            \"probability\": 0.2\n",
    "        },\n",
    "        {\n",
    "            \"name\": \"developer\",\n",
    "            \"description\": \"a software developer or IT professional with deep technical knowledge\",\n",
    "            \"probability\": 0.1\n",
    "        }\n",
    "    ]\n",
    "}"
   ]
  }
 ],
 "metadata": {
  "kernelspec": {
   "display_name": ".venv",
   "language": "python",
   "name": "python3"
  },
  "language_info": {
   "codemirror_mode": {
    "name": "ipython",
    "version": 3
   },
   "file_extension": ".py",
   "mimetype": "text/x-python",
   "name": "python",
   "nbconvert_exporter": "python",
   "pygments_lexer": "ipython3",
   "version": "3.11.9"
  }
 },
 "nbformat": 4,
 "nbformat_minor": 4
}
