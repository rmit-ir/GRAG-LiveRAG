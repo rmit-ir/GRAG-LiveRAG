{
 "cells": [
  {
   "cell_type": "code",
   "execution_count": 1,
   "id": "6314aee8",
   "metadata": {},
   "outputs": [],
   "source": [
    "import pandas as pd\n",
    "\n",
    "input_ds = '../data/generated_qa_pairs/dmds_500_combined.tsv'\n",
    "input_eval = '../data/evaluation_results/dmds_500_combined.no_expand_doc.eval05070326.LLMEvaluator.rows.tsv'\n",
    "df_ds = pd.read_csv(input_ds, sep='\\t')\n",
    "df_eval = pd.read_csv(input_eval, sep='\\t')"
   ]
  },
  {
   "cell_type": "code",
   "execution_count": null,
   "id": "c4c1aa46",
   "metadata": {},
   "outputs": [],
   "source": [
    "# filter df_eval by relevance_score < 2\n",
    "df_eval_hard_evals = df_eval[df_eval['relevance_score'] < 2]\n",
    "df_eval_hard_evals.to_csv(input_eval.replace('.tsv', '.hard.tsv'), sep='\\t', index=False)\n",
    "\n",
    "df_eval_harder_evals = df_eval[df_eval['relevance_score'] < 1]\n",
    "df_eval_harder_evals.to_csv(input_eval.replace('.tsv', '.harder.tsv'), sep='\\t', index=False)\n",
    "\n",
    "# filter input_ds by the same qid in df_eval_hard_evals and df_eval_harder_evals\n",
    "df_ds_hard = df_ds[df_ds['qid'].isin(df_eval_hard_evals['qid'])]\n",
    "df_ds_hard.to_csv(input_ds.replace('.tsv', '.hard.tsv'), sep='\\t', index=False)\n",
    "\n",
    "df_ds_harder = df_ds[df_ds['qid'].isin(df_eval_harder_evals['qid'])]\n",
    "df_ds_harder.to_csv(input_ds.replace('.tsv', '.harder.tsv'), sep='\\t', index=False)"
   ]
  },
  {
   "cell_type": "code",
   "execution_count": null,
   "id": "2785e98a",
   "metadata": {},
   "outputs": [],
   "source": []
  }
 ],
 "metadata": {
  "kernelspec": {
   "display_name": ".venv",
   "language": "python",
   "name": "python3"
  },
  "language_info": {
   "codemirror_mode": {
    "name": "ipython",
    "version": 3
   },
   "file_extension": ".py",
   "mimetype": "text/x-python",
   "name": "python",
   "nbconvert_exporter": "python",
   "pygments_lexer": "ipython3",
   "version": "3.11.9"
  }
 },
 "nbformat": 4,
 "nbformat_minor": 5
}
